{
  "cells": [
    {
      "attachments": {},
      "cell_type": "markdown",
      "metadata": {
        "id": "tKAcyAOyW8W0"
      },
      "source": [
        "# Estatística & Probabilidade - 2023/02\n",
        "\n",
        "## Projeto 01 - Calculando probabilidades com simulação estocástica\n",
        "\n",
        "### Hugo Tremonte de Carvalho\n",
        "\n",
        "#### hugo@dme.ufrj.br\n",
        "\n",
        "#### Google Classroom: `oug6dox`"
      ]
    },
    {
      "attachments": {},
      "cell_type": "markdown",
      "metadata": {
        "id": "LsmMcxGPW8W1"
      },
      "source": [
        "# ⚠️ INSTRUÇÕES ⚠️ LEIAM ATENTAMENTE! ⚠️"
      ]
    },
    {
      "attachments": {},
      "cell_type": "markdown",
      "metadata": {
        "id": "aSV-VmQvW8W2"
      },
      "source": [
        "* A data limite de entrega da avaliação é sábado 01/10/2023 às 23h59. Avaliações entregues após esse prazo serão desconsideradas.\n",
        "\n",
        "* A entrega deve ser feita exclusivamente através do Google Classroom, usando a linguagem Python dentro de um notebook do Google Colaboratory, a ser anexado na atividade da seguinte forma:\n",
        "  - Dentro da turma no Google Classroom, clique em \"Atividades\"\n",
        "            \n",
        "  - No tema \"Projetos\", clique em \"Projeto 02\" e em seguida em \"Ver atividade\"\n",
        "            \n",
        "  - No canto superior direito, clique em \"+ Adicionar ou criar\" e em seguida selecione em \"Arquivo\" ou \"Google Drive\", se optar fazer upload do notebook ou selecionar um arquivo de seu Google Drive, respectivamente.\n",
        "            \n",
        "  - O título do notebook deverá ser, obrigatoriamente, \"SEU NOME - Projeto 01\".\n",
        "            \n",
        "  - Para entregar o projeto, abra a atividade que o contém (conforme procedimento explicado no ponto acima), e no canto superior direito clique em \"ENTREGAR\" (o texto estará em uma caixa cinza, mas ele é clicável).\n",
        "            \n",
        "  - Na tela a seguir clique em \"Entregar\" para confirmar a entrega do trabalho.\n",
        "            \n",
        "  - Se você se arrependeu e quiser fazer outra entrega, basta abrir a atividade, no canto superior direito clique em \"Cancelar envio\" e confirme clicando novamente em \"Cancelar envio\" na janela que irá abrir. Você pode fazer isso quantas vezes quiser até o prazo determinado.\n",
        "            \n",
        "  - As explicações que você precisará fazer devem ser feitas em células de texto em seu notebook. Somente comentários pequenos devem ser feitos no código.\n",
        "            \n",
        "  - Caso seja necessário, equações podem ser introduzidas em $\\LaTeX$ nas células de texto.\n",
        "            \n",
        "  - Figuras também podem ser incluídas em células de texto, tanto através de upload quanto simplesmente arrastando-a para alguma célula de texto. Nesse caso, sempre informe a fonte de onde a figura foi retirada, caso não tenha sido gerada por você.\n",
        "\n",
        "* O projeto poderá ser feito **até** em dupla: quem quer fazer sozinho/a faz, mas quem quiser fazer em dupla também tem esse direito. Porém, vamos evitar problemas de \"eu fiz tudo e ele/a não fez nada\"! Infelizmente não tenho como controlar isso, e após o projeto entregue não adianta \"eu fiz tudo sozinho/a\", pois eu não estava lá para ver! Tentem se resolver entre si, mas em último caso posso auxiliar com uma mediação.\n",
        "\n",
        "* No caso de trabalho em dupla, apenas **uma** pessoa da dupla deverá fazer o envio do trabalho, claro, deixando explícito quem é o/a parceiro/a.\n",
        "\n",
        "* A troca de conhecimento na realização da avaliação é permitida e encorajada: ciência se faz com colaboração, e devemos seguir esse espírito aqui. Porém, cada dupla (ou indivíduo) deverá ter a sua própria resolução, e cópias ou outras ilegalidades serão severamente punidas com a anulação da avaliação para o(s) aluno(s) suspeito(s).\n",
        "\n",
        "* Todos os passos de sua resolução devem ser devidamente justificados.\n",
        "\n",
        "* Ao entregar essa avaliação, você afirma ter lido e estar de acordo com essas regras, comprometendo-se a cumpri-las."
      ]
    },
    {
      "attachments": {},
      "cell_type": "markdown",
      "metadata": {
        "id": "DLypPchqnhoc"
      },
      "source": [
        "# O projeto"
      ]
    },
    {
      "attachments": {},
      "cell_type": "markdown",
      "metadata": {
        "id": "FHI5n8V3nw19"
      },
      "source": [
        "O objetivo da atividade é que vocês calculem algumas probabilidades através de simulação estocástica, ou seja, através de um grande número de sorteios aleatórios devidamente projetados para calcular a probabilidade desejada. Algumas dessas probabilidades podem ser calculadas analiticamente com certa facilidade, mas em outros pode ser **bem** difícil (ou mesmo impossível). Dessa forma, o cálculo de probabilidades através de simulação estocástica pode ser tanto uma ferramenta fundamental para resolver algum problema ou para te dar alguma intuição, te guiando para o resultado analítico. Em alguns momentos vocês deverão justficar teoricamente os resultados obtidos, pois senão, não tem graça! 😁"
      ]
    },
    {
      "attachments": {},
      "cell_type": "markdown",
      "metadata": {
        "id": "6jbjorsno16i"
      },
      "source": [
        "## Questão 1: Calculando $\\pi$ jogando dardos"
      ]
    },
    {
      "attachments": {},
      "cell_type": "markdown",
      "metadata": {
        "id": "nscY444bo5vb"
      },
      "source": [
        "a) Suponha que num jogo de dardos você tem, pendurado em uma parede, o alvo (círculo de raio 1) devidamente emoldurado (inscrito em um quadrado de lado 2 - as unidades não importam aqui). Porém, suas habilidades ao arremessar um dardo em direção ao alvo são péssimas, e você pode atingir qualquer ponto dentro do quadrado uniformemente (note que, forças ocultas e inexplicáveis do Universo fazem com que seja impossível você acertar *fora* da moldura). Através de um cálculo analítico mostre como que a probabilidade de você acertar o alvo se relaciona com o número $\\pi$."
      ]
    },
    {
      "attachments": {},
      "cell_type": "markdown",
      "metadata": {
        "id": "dg13CC2doyfc"
      },
      "source": [
        "Abaixo se encontra uma representação gráfica do círculo de raio 1 inscrito no quadrado de lado 2."
      ]
    },
    {
      "attachments": {},
      "cell_type": "markdown",
      "metadata": {},
      "source": [
        "<img src=cir.png>"
      ]
    },
    {
      "attachments": {},
      "cell_type": "markdown",
      "metadata": {},
      "source": [
        "Para calcular a probabilidade de acertar o alvo, é necessário utilizar a fórmula abaixo:                          \n",
        "\n",
        "P(A) = número de elementos em A = $\\frac{eventos favoraveis}{eventos\\; totais}$\n",
        "\n",
        "Podemos considerar os eventos totais, acertar qualquer lugar dentro do quadrado, sendo assim a área do quadrado.\n",
        "\n",
        "eventos totais = área do quadrado = $2^2$ = 4\n",
        "\n",
        "Agora os eventos favoráveis é acertar qualquer lugar dentro do cíeculo, sendo assim a área do círculo.\n",
        "\n",
        "eventos favoráveis = área do círculo = $\\pi*1^2$ = $\\pi$\n",
        "\n",
        "Dessa forma, a probabilidade de você acertar o alvo é $\\frac{\\pi}{4}$.\n",
        "\n",
        "Logo a probabilidade de acretar o alvo é um quarto do valor de $\\pi$ neste caso.\n",
        "\n",
        "Ainda, podemos relacionar a probabilidade com a área do quadrado, sendo L o lado, a área do quadrado é igual a $L^2$. E o raio do círculo sendo R, temos área do círculo = $\\pi*R^2$\n",
        "\n",
        "Então a probabilidade sempre será eventos favoráveis = área do círculo = $\\pi*R^2$ sobre eventos totais = área do quadrado = $L^2$ \n",
        "sendo $\\frac{\\pi*R^2}{L^2}$."
      ]
    },
    {
      "attachments": {},
      "cell_type": "markdown",
      "metadata": {
        "id": "UGFvm7FaqMPi"
      },
      "source": [
        "b) Utilizando geração de números aleatórios, faça uma simulação para estimar o valor de $\\pi$ através do procedimento acima. Ou seja, simule que dardos são arremessados uniformemente no quadrado e utilize a interpretação frequentista da probabilidade para aproximar o valor de $\\pi$. Note que você precisará de \"muitas\" tentativas para ter uma boa estimativa. O quão grande você acha que \"muitas\" deve ser?"
      ]
    },
    {
      "attachments": {},
      "cell_type": "markdown",
      "metadata": {
        "id": "eTFXKw8aqljB"
      },
      "source": [
        "Para construir a simulação precisamos modelar o problema, podemos posicionar o quadrado em um plano cartesiano, de forma que o centro do circulo inscrito esteja na posição [0,0], como mostra na figura abaixo"
      ]
    },
    {
      "attachments": {},
      "cell_type": "markdown",
      "metadata": {},
      "source": [
        "<img src=plano-cartesiano.png width='400px'>"
      ]
    },
    {
      "attachments": {},
      "cell_type": "markdown",
      "metadata": {},
      "source": [
        "Observando a figura, podemos concluir que para que um ponto esteja presente no quadrado, as coordenadas $x$ e $y$ devem variar de -1 a 1. Desta forma uma maneira uma forma de simular a jogada do dardo, é sotear uma coordenada $x$ e $y$ seguindo os segintes intervalos $-1 \\leq x \\leq 1$ e $-1 \\leq y \\leq 1$.\n",
        "\n",
        "Sendo assim falta só saber se a coordenada sorteada está dentro do círculo, para isso vamos usar a equação do círculo.\n",
        "\n",
        "$$x^2 + y^2 = 1$$\n",
        "\n",
        "A equação verifica se o ponto está localizado na extremidade do circulo, para considerar pontos no interior do círculo, iremos trocar o igual por um menor igual.\n",
        "\n",
        "$$x^2 + y^2 \\leq 1$$\n",
        "\n",
        "Com todas essas informações consideradas, podemos montar a nossa simulação"
      ]
    },
    {
      "attachments": {},
      "cell_type": "markdown",
      "metadata": {},
      "source": [
        "A nossa simulação irá simular a jogada de um dardo várias vezes, e contabilizar as vezes que o alvo foi acertado, e depois dividir pelo número de lancamentos, para ter o resultado da probabilidade de acertar o alvo."
      ]
    },
    {
      "cell_type": "code",
      "execution_count": 1,
      "metadata": {},
      "outputs": [
        {
          "name": "stdout",
          "output_type": "stream",
          "text": [
            "Probabilidade de acertar o alvo:  0.78537951\n"
          ]
        }
      ],
      "source": [
        "import random\n",
        "\n",
        "def lançar_dardos(n):\n",
        "    contador_Acertos = 0\n",
        "    for _ in range(n):\n",
        "        x = random.uniform(-1, 1)\n",
        "        y = random.uniform(-1, 1)\n",
        "        if((x**2 + y**2)<=1):\n",
        "            contador_Acertos = contador_Acertos + 1\n",
        "    return contador_Acertos/n\n",
        "\n",
        "\n",
        "numero_de_lancamentos = 100000000\n",
        "resultado = lançar_dardos(numero_de_lancamentos)\n",
        "print(\"Probabilidade de acertar o alvo: \", resultado)\n"
      ]
    },
    {
      "attachments": {},
      "cell_type": "markdown",
      "metadata": {},
      "source": [
        "Pelo resultado obtido no item a, a probabilidade de você acertar o alvo é $\\frac{\\pi}{4}$. Dessa forma podemos igualar isso ao resultado obtido na simulação e assim ter uma estimativa do valor de $\\pi$.\n",
        "\n",
        "$$\\frac{\\pi}{4} \\approx 0.78548015$$\n",
        "\n",
        "$$\\pi \\approx 0.78548015*4$$\n",
        "\n",
        "$$\\pi \\approx 3.1419206$$"
      ]
    },
    {
      "attachments": {},
      "cell_type": "markdown",
      "metadata": {
        "id": "LaL7ZvrFqrGd"
      },
      "source": [
        "## Questão 2: O problema de Monty Hall"
      ]
    },
    {
      "attachments": {},
      "cell_type": "markdown",
      "metadata": {
        "id": "QOr2y6H6rASi"
      },
      "source": [
        "Em um famoso programa de televisão da década de 70 nos Estados Unidos, Monty Hall, o apresentador, apresentava três portas aos concorrentes. Atrás de uma delas estava um prêmio e, atrás das outras duas não havia nada. A interação se dava em três etapas:\n",
        "\n",
        "* Na 1a. etapa o concorrente escolhe uma das três portas (que ainda não é aberta);\n",
        "* Na 2a. etapa, Monty abre uma das outras duas portas que o concorrente não escolheu, revelando que o prêmio não se encontra nessa porta e revelando uma porta vazia (note que o apresentador **sempre** irá abrir uma porta que está vazia, e **nunca** a porta com o prêmio);\n",
        "* Na 3a. etapa Monty pergunta ao concorrente se quer decidir permanecer com a porta que escolheu no início do jogo ou se ele pretende mudar para a outra porta que ainda está fechada para então a abrir. Agora, com duas portas apenas para escolher — pois uma delas já se viu, na 2a. etapa, que não tinha o prêmio — e sabendo que o prêmio está atrás de uma das restantes duas, o concorrente tem que tomar a decisão.\n",
        "\n",
        "O objetivo dessa questão é estudar qual é a estratégia mais lógica: ficar com a porta escolhida inicialmente ou mudar de porta? Do ponto de vista probablístico, com qual das duas portas ainda fechadas o concorrente tem mais probabilidades de ganhar?"
      ]
    },
    {
      "attachments": {},
      "cell_type": "markdown",
      "metadata": {
        "id": "M2_R56AUv8iz"
      },
      "source": [
        "a) Primeiramente, pensando do ponto de vista do participante, argumente se é mais razoável que ele tome sua decisão pensando do ponto de vista da interpretação frequentista ou subjetiva do conceito de probabilidade. Claro, justifique sua escolha!\n",
        "\n",
        "Obs.: Esse item é engraçado pois uma vez que o cálculo da probabilidade independe da interpretação escolhida, qualquer resposta é válida, do ponto de vista formal. Porém, a graça aqui é *como* você vai fazer a sua justificativa para a interpretação escolhida!"
      ]
    },
    {
      "attachments": {},
      "cell_type": "markdown",
      "metadata": {
        "id": "6UBqZEFWwM7e"
      },
      "source": [
        "A partir de uma perspectiva subjetiva, a probabilidade é interpretada como uma representação da incerteza pessoal que um indivíduo tem em relação a um evento. Nessa abordagem subjetiva, levo em conta a atualização das minhas crenças com base nas informações disponíveis e na minha própria incerteza. Isso elimina a necessidade de realizar inúmeros experimentos para calcular a probabilidade de acerto, pois as minhas crenças pessoais refletem a minha avaliação subjetiva da situação.-"
      ]
    },
    {
      "attachments": {},
      "cell_type": "markdown",
      "metadata": {
        "id": "RY65vLyfwNnN"
      },
      "source": [
        "b) Talvez você já saiba a resposta para esse problema, uma vez que ele é bem famoso, mas não tem problema! Faça simulações para encontrar qual é o melhor cenário para o participante: manter sua escolha inicial ou mudar de porta. Justifique, **intuitivamente** (ou seja, **sem fazer contas**) porque essa escolha é razoável."
      ]
    },
    {
      "attachments": {},
      "cell_type": "markdown",
      "metadata": {
        "id": "ZLMuLgq3wrjJ"
      },
      "source": [
        "-- sua resolução aqui --"
      ]
    },
    {
      "cell_type": "code",
      "execution_count": 74,
      "metadata": {
        "id": "i9P5y-aBw31c"
      },
      "outputs": [
        {
          "name": "stdout",
          "output_type": "stream",
          "text": [
            "Probabilidade de ganhar o prêmio ao trocar de porta: 0.667093\n",
            "Probabilidade de ganhar o prêmio ao não trocar de porta: 0.332907\n"
          ]
        }
      ],
      "source": [
        "import random\n",
        "\n",
        "def simulador_portas(n):\n",
        "    contador_troca = 0\n",
        "    contador_nao_troca = 0\n",
        "    \n",
        "    for _ in range(n):\n",
        "        # Colocar o prêmio em uma das portas\n",
        "        premio = random.randint(0, 2)\n",
        "        # Porta escolhida\n",
        "        porta_escolhida = random.randint(0, 2)\n",
        "\n",
        "        # Monty apresenta uma porta vazia\n",
        "        porta_vazia = list(set([0, 1, 2]) - set([premio, porta_escolhida]))\n",
        "        porta_de_monty = random.choice(porta_vazia)\n",
        "\n",
        "        # Determinar a outra porta fechada que não foi escolhida\n",
        "        porta_fechada_nao_escolhida = list(set([0, 1, 2]) - set([porta_escolhida, porta_de_monty]))[0]\n",
        "        \n",
        "        # Verificar qual das portas não abertas contém o prêmio\n",
        "        if porta_fechada_nao_escolhida == premio:\n",
        "            # Contar as vezes que a porta não escolhida contém o prêmio\n",
        "            contador_troca += 1\n",
        "        else:\n",
        "            # Contar as vezes que a porta escolhida contém o prêmio\n",
        "            contador_nao_troca += 1\n",
        "    return (contador_nao_troca / n, contador_troca / n)        \n",
        "\n",
        "probabilidade_de_acerto_ao_nao_trocar, probabilidade_de_acerto_ao_trocar = simulador_portas(10 ** 6)\n",
        "\n",
        "print('Probabilidade de ganhar o prêmio ao trocar de porta:', probabilidade_de_acerto_ao_trocar)\n",
        "print('Probabilidade de ganhar o prêmio ao não trocar de porta:', probabilidade_de_acerto_ao_nao_trocar)\n"
      ]
    },
    {
      "attachments": {},
      "cell_type": "markdown",
      "metadata": {
        "id": "3JCfE3SoxEz0"
      },
      "source": [
        "c) Agora sim, justifique fazendo as contas a probabilidade encontrada no item b). Caso você pesquise por aí, você vai encontrar algumas soluções utilizando o Teorema de Bayes. Como nós não vimos ainda tal conteúdo, tente fazer somente com probabilidade condicional. Juro que é possível, e vai ser legal para treinar o conceito recém-aprendido."
      ]
    },
    {
      "attachments": {},
      "cell_type": "markdown",
      "metadata": {
        "id": "O5OXB7gtxKCL"
      },
      "source": [
        "Primeiramente, começaremos com a escolha de porta do participante, temos 3 portas fechadas então o número de eventos totais é igual a 3. O participante escolhe uma porta, sendo o número de eventos favoráveis igual a 1. Então, a probabilidade do participantes escolher a porta premiada em sua primeira escolha é igual a 1/3. Esse valor corresponde ao visto na simulação onde a Probabilidade de ganhar o prêmio ao não trocar de porta é aproximadamente 0.332907. \n",
        "\n",
        "Agora, pensemos na probabilidade de ganhar o prêmio ao trocar de porta. Nessa, temos uma mudança significativa de cenário, pois uma das portas que não contém o prêmio já foi aberta. Então queremos encontrar o evento A = a segunda porta escolhida (diferente da primeira) é a premiada, dado o evento B = uma porta que não contém o prêmio ser aberta. \n",
        "Analisemos:\n",
        "\n",
        "Para a primeira porta escolhida estar com prêmio a probabilidade é 1/3, como mostrado acima.\n",
        "Para a primeira porta escolhida não ter prêmio a probabilidade é 2/3, pois é o complementar da anterior (1 - 1/3).\n",
        "\n",
        "Para achar a probabilidade de ganhar o prêmio ao trocar de porta, vamos trabalhar com os dois casos acima.\n",
        "Se a primeira porta escolhida tem prêmio, então a probabilidade de a segunda porta escolhida ter prêmio é igual a 0.\n",
        "\n",
        "Agora, tendo que a primeira porta escolhida não tem prêmio, nesse caso se o participante manter a porta escolhida primeiramente as chances de ganhar são iguais a 0. Então, tendo em vista que uma porta que não tinha prêmio foi aberta, a chance dele ganhar se trocar a porta vai ser complementar a probabilidade de não trocar a porta, pois só há uma opção de porta. Sendo 2/3 a probabilidade para este caso de a primeira porta escolhida nao ter o prêmio, então o complementar aqui será 2/3 - 0 = 2/3 de chances de a segunda porta escolhida ter o prêmio. Esse valor também foi o encontrado na simulação do item b) que resultou em aproximadamente 0.667093\n",
        "\n",
        "\n",
        "Também, a seguir, uma representação gráfica das condicionais relatadas:\n",
        "\n",
        "<img src=probestgrafico.png>"
      ]
    },
    {
      "attachments": {},
      "cell_type": "markdown",
      "metadata": {
        "id": "IvZ5zfcTxVYx"
      },
      "source": [
        "## Questão 3: Jogo da velha aleatório"
      ]
    },
    {
      "attachments": {},
      "cell_type": "markdown",
      "metadata": {
        "id": "psZKODw_zLMj"
      },
      "source": [
        "Agora, vamos tentar estimar uma probabilidade cujo cálculo analítico é bem mais complexo. Suponha que dois jogadores joguem jogo da velha porém com uma estratégia um pouco exótica: cada jogador escolhe a casa onde irá marcar $\\times$ ou $\\circ$ uniformemente dentre as casas vazias. Exemplificando, o primeiro jogador marca $\\times$ em uma das 9 casas com igual probabilidade; o segundo marca $\\circ$ em uma das 8 casas restantes com igual probabilidade; e assim sucessivamente até algum jogador ganhar (linha, coluna ou diagonal completa com $\\times$ ou $\\circ$) ou empatar (todas as células preenchidas porém sem nenhuma linha nem coluna nem diagonal completa com $\\times$ ou $\\circ$)."
      ]
    },
    {
      "attachments": {},
      "cell_type": "markdown",
      "metadata": {
        "id": "VQSdGXm5zWH7"
      },
      "source": [
        "a) Encontre uma aproximação para a probabilidade do jogo **não** terminar em empate. Tente encontrar uma justificativa intuitiva para sua resposta."
      ]
    },
    {
      "cell_type": "markdown",
      "metadata": {},
      "source": [
        "Iremos fazer apresentar um codigo que irá simular as partidas de jogo da velha para obter uma estimativa da probabilidade do jogo não terminar em empate.\n",
        "\n",
        "para poder simular a partida é necessáio estabelecer que o jogo só termina em empate se todas as células preenchidas porém sem nenhuma linha nem coluna nem diagonal completa com $\\times$ ou $\\circ$"
      ]
    },
    {
      "cell_type": "code",
      "execution_count": 114,
      "metadata": {},
      "outputs": [
        {
          "name": "stdout",
          "output_type": "stream",
          "text": [
            "Probabilidade do jogo não terminar empatado\n",
            "0.87369\n"
          ]
        }
      ],
      "source": [
        "import random\n",
        "def verificar_vitoria(tabuleiro, jogador):\n",
        "    # Verifica linhas e colunas\n",
        "    for i in range(3):\n",
        "        if (tabuleiro[i][0] == tabuleiro[i][1] == tabuleiro[i][2] == jogador ) or \\\n",
        "        (tabuleiro[0][i] == tabuleiro[1][i] == tabuleiro[2][i]  == jogador ):\n",
        "            return True\n",
        "\n",
        "    # Verifica diagonais\n",
        "    if all(tabuleiro[i][i] == jogador for i in range(3)) or all(tabuleiro[i][2 - i] == jogador for i in range(3)):\n",
        "        return True\n",
        "\n",
        "    return False\n",
        "\n",
        "\n",
        "def simular_jogo_da_velha(n):\n",
        "    vitorias = 0\n",
        "\n",
        "    for _ in range(n):\n",
        "        # Inicializa o tabuleiro vazio\n",
        "        tabuleiro = [[' ', ' ', ' '], [' ', ' ', ' '], [' ', ' ', ' ']]\n",
        "        \n",
        "        jogador = 'X'\n",
        "        casas_vazias = [(i, j) for i in range(3) for j in range(3)] \n",
        "\n",
        "        while True:  # Número máximo de movimentos é 9\n",
        "            \n",
        "            if casas_vazias:\n",
        "                i, j = random.choice(casas_vazias)\n",
        "                tabuleiro[i][j] = jogador\n",
        "                casas_vazias.remove((i,j))\n",
        "\n",
        "                # Verifica se o jogador atual venceu\n",
        "                if verificar_vitoria(tabuleiro, jogador):\n",
        "                    vitorias += 1\n",
        "                    break\n",
        "\n",
        "                # Alterna para o próximo jogador\n",
        "                jogador = 'O' if jogador == 'X' else 'X'\n",
        "            else:\n",
        "                # O jogo termina em empate\n",
        "                break\n",
        "\n",
        "    # Calcula a probabilidade de vitória do jogador X\n",
        "    return vitorias/n\n",
        "\n",
        "# Exemplo de uso\n",
        "Pvitorias=simular_jogo_da_velha(10**5)  \n",
        "print('Probabilidade do jogo não terminar empatado')\n",
        "print(Pvitorias)"
      ]
    },
    {
      "attachments": {},
      "cell_type": "markdown",
      "metadata": {
        "id": "2Vfan0FPzWfw"
      },
      "source": [
        "-- sua resolução aqui --"
      ]
    },
    {
      "attachments": {},
      "cell_type": "markdown",
      "metadata": {
        "id": "91y2XZ2dzeqp"
      },
      "source": [
        "b) Dentre os jogos que não terminam empatados, qual jogador tem mais chances de ganhar, se ambos utilizam essa estratégia: o jogador que começa ou o segundo jogador? Tente encontrar uma justificativa intuitiva para sua resposta."
      ]
    },
    {
      "cell_type": "code",
      "execution_count": 18,
      "metadata": {},
      "outputs": [
        {
          "name": "stdout",
          "output_type": "stream",
          "text": [
            "probabilidade do 1 jogador ganhar: \n",
            "0.6705576429618768\n",
            "probabilidade do 2 jogador ganhar: \n",
            "0.3294423570381232\n"
          ]
        }
      ],
      "source": [
        "import random\n",
        "def verificar_vitoria(tabuleiro, jogador):\n",
        "    # Verifica linhas e colunas\n",
        "    for i in range(3):\n",
        "        if (tabuleiro[i][0] == tabuleiro[i][1] == tabuleiro[i][2] == jogador ) or \\\n",
        "        (tabuleiro[0][i] == tabuleiro[1][i] == tabuleiro[2][i]  == jogador ):\n",
        "            return True\n",
        "\n",
        "    # Verifica diagonais\n",
        "    if all(tabuleiro[i][i] == jogador for i in range(3)) or all(tabuleiro[i][2 - i] == jogador for i in range(3)):\n",
        "        return True\n",
        "\n",
        "    return False\n",
        "\n",
        "\n",
        "def simular_jogo_da_velha(n):\n",
        "    vitorias = 0\n",
        "    vitorias_X = 0\n",
        "    vitorias_O = 0\n",
        "    for _ in range(n):\n",
        "        # Inicializa o tabuleiro vazio\n",
        "        tabuleiro = [[' ', ' ', ' '], [' ', ' ', ' '], [' ', ' ', ' ']]\n",
        "        \n",
        "        jogador = 'X'\n",
        "        casas_vazias = [(i, j) for i in range(3) for j in range(3)] \n",
        "\n",
        "        while True:  # Número máximo de movimentos é 9\n",
        "            \n",
        "            if casas_vazias:\n",
        "                i, j = random.choice(casas_vazias)\n",
        "                tabuleiro[i][j] = jogador\n",
        "                casas_vazias.remove((i,j))\n",
        "\n",
        "                # Verifica se o jogador atual venceu\n",
        "                if verificar_vitoria(tabuleiro, jogador):\n",
        "                    vitorias += 1\n",
        "                    if(jogador == 'X'):\n",
        "                        vitorias_X +=1\n",
        "                    else:\n",
        "                        vitorias_O +=1\n",
        "                    break\n",
        "\n",
        "                # Alterna para o próximo jogador\n",
        "                jogador = 'O' if jogador == 'X' else 'X'\n",
        "            else:\n",
        "                # O jogo termina em empate\n",
        "                break\n",
        "\n",
        "\n",
        "    return vitorias_X/vitorias, vitorias_O/vitorias\n",
        "\n",
        "# Exemplo de uso\n",
        "Pjogador1, Pjogador2 =simular_jogo_da_velha(10**5)  \n",
        "\n",
        "print('probabilidade do 1 jogador ganhar: ')\n",
        "print(Pjogador1)\n",
        "print('probabilidade do 2 jogador ganhar: ')\n",
        "print(Pjogador2)"
      ]
    },
    {
      "attachments": {},
      "cell_type": "markdown",
      "metadata": {
        "id": "iUJS3YwD4wrA"
      },
      "source": [
        "c) Responda às mesmas perguntas dos itens a) e b), porém para um *jogo da velha tridimensional*: ou seja, em vez do jogo acontecer em uma grade bidimensional de tamanho $3 \\times 3$, agora ele acontece em uma grade tridimensional de tamanho $3 \\times 3 \\times 3$! 🤯 Tome cuidado pois agora há diversas formas de um jogador ganhar uma partida! Além de ser através do completamento de alguma linha, coluna ou diagonal de qualquer \"sub-tabuleiro\" plano do cubo $3 \\times 3 \\times 3$ (existem 9 desses tabuleiros), o jogador poderá ainda completar as diagonais do cubo que unem vértices opostos (4 no total)."
      ]
    },
    {
      "cell_type": "markdown",
      "metadata": {},
      "source": [
        "Na estratégia de simulação, começaremos com o tabuleiro inicial e dividiremos em nove subtabuleiros, nos quais testaremos a condição de vitória, utilizando o código já apresentado. Além disso, faremos uma verificação adicional para determinar a vitória nas diagonais."
      ]
    },
    {
      "cell_type": "code",
      "execution_count": 113,
      "metadata": {},
      "outputs": [
        {
          "name": "stdout",
          "output_type": "stream",
          "text": [
            "Probabilidade do jogo não terminar empatado\n",
            "1.0\n",
            "Probabilidade do Jogador 1 ganhar: \n",
            "0.5699\n",
            "Probabilidade do Jogador 2 ganhar: \n",
            "0.4301\n"
          ]
        }
      ],
      "source": [
        "import random\n",
        "\n",
        "def verificar_vitoria_2d(tabuleiro, jogador):\n",
        "    # Verifica linhas e colunas\n",
        "    for i in range(3):\n",
        "        if (tabuleiro[i][0] == tabuleiro[i][1] == tabuleiro[i][2] == jogador ) or \\\n",
        "        (tabuleiro[0][i] == tabuleiro[1][i] == tabuleiro[2][i]  == jogador ):\n",
        "            return True\n",
        "\n",
        "    # Verifica diagonais\n",
        "    if all(tabuleiro[i][i] == jogador for i in range(3)) or all(tabuleiro[i][2 - i] == jogador for i in range(3)):\n",
        "        return True\n",
        "\n",
        "    return False\n",
        "\n",
        "def extrair_subtabuleiros(cubo):\n",
        "    subtabuleiros = []\n",
        "    subtabuleiros.append(cubo[0])\n",
        "    subtabuleiros.append(cubo[1])\n",
        "    subtabuleiros.append(cubo[2])\n",
        "    s =[cubo[0][0], cubo[1][0], cubo[2][0]]\n",
        "    subtabuleiros.append(s)\n",
        "    s =[cubo[0][1], cubo[1][1], cubo[2][1]]\n",
        "    subtabuleiros.append(s)\n",
        "    s =[cubo[0][2], cubo[1][2], cubo[2][2]]\n",
        "    subtabuleiros.append(s)\n",
        "    for coluna in range(3):\n",
        "        col = []\n",
        "        for plano in range(3):\n",
        "            col.append([linha[coluna] for linha in cubo[plano]])\n",
        "        subtabuleiros.append(col)\n",
        "    return subtabuleiros\n",
        "\n",
        "def verificar_vitoria_3d(tabuleiro, jogador):\n",
        "    # Verifica vitória nos \"sub-tabuleiros\" planos de 3x3]]\n",
        "    tabuleiros = extrair_subtabuleiros(tabuleiro)\n",
        "\n",
        "    for camada in tabuleiros:\n",
        "        if verificar_vitoria_2d(camada, jogador):\n",
        "            return True\n",
        "    #Verificar a vitoria nas diagonais\n",
        "    if (all(tabuleiro[i][i][i] == jogador for i in range(3)) or\n",
        "         all(tabuleiro[i][i][2 - i] == jogador for i in range(3)) or\n",
        "         all(tabuleiro[i][2 - i][i] == jogador for i in range(3)) or\n",
        "         all(tabuleiro[i][2 - i][2 - i] == jogador for i in range(3))):\n",
        "         return True\n",
        "\n",
        "    return False\n",
        "\n",
        "\n",
        "def simular_xadrez_3d(n):\n",
        "    vitorias = 0\n",
        "    vitorias_X = 0\n",
        "    vitorias_O = 0\n",
        "\n",
        "    for _ in range(n):\n",
        "        # Inicializa o tabuleiro vazio\n",
        "        tabuleiro = [[[' ' for _ in range(3)] for _ in range(3)] for _ in range(3)]\n",
        "       \n",
        "        jogador = 'X'\n",
        "\n",
        "        casas_vazias = [(i, j, k) for i in range(3) for j in range(3) for k in range(3)]\n",
        "\n",
        "        while True:  # Número máximo de movimentos é 27 (3x3x3)\n",
        "\n",
        "            if casas_vazias:\n",
        "                i, j, k = random.choice(casas_vazias)\n",
        "                tabuleiro[i][j][k] = jogador\n",
        "                casas_vazias.remove((i, j, k))\n",
        "\n",
        "                # Verifica se o jogador atual venceu\n",
        "                if verificar_vitoria_3d(tabuleiro, jogador):\n",
        "                    vitorias += 1\n",
        "                    if jogador == 'X':\n",
        "                        vitorias_X += 1\n",
        "                    else:\n",
        "                        vitorias_O += 1\n",
        "                    break\n",
        "\n",
        "                # Alterna para o próximo jogador\n",
        "                jogador = 'O' if jogador == 'X' else 'X'\n",
        "            else:\n",
        "                \n",
        "                # O jogo termina em empate\n",
        "                break\n",
        "\n",
        "    # Calcula a probabilidade de vitória do Jogador 1 e do Jogador 2\n",
        "    probabilidade_jogador1 = vitorias_X / vitorias\n",
        "    probabilidade_jogador2 = vitorias_O / vitorias\n",
        "    return probabilidade_jogador1, probabilidade_jogador2, vitorias/n\n",
        "\n",
        "#Exemplo de uso\n",
        "Pjogador1, Pjogador2, Pvitorias = simular_xadrez_3d(10**5)\n",
        "\n",
        "print('Probabilidade do jogo não terminar empatado')\n",
        "print(Pvitorias)\n",
        "print('Probabilidade do Jogador 1 ganhar: ')\n",
        "print(Pjogador1)\n",
        "print('Probabilidade do Jogador 2 ganhar: ')\n",
        "print(Pjogador2)\n",
        "\n",
        "\n"
      ]
    }
  ],
  "metadata": {
    "colab": {
      "provenance": []
    },
    "kernelspec": {
      "display_name": "Python 3",
      "name": "python3"
    },
    "language_info": {
      "codemirror_mode": {
        "name": "ipython",
        "version": 3
      },
      "file_extension": ".py",
      "mimetype": "text/x-python",
      "name": "python",
      "nbconvert_exporter": "python",
      "pygments_lexer": "ipython3",
      "version": "3.9.0"
    }
  },
  "nbformat": 4,
  "nbformat_minor": 0
}
