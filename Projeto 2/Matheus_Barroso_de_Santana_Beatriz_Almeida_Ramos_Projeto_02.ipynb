{
  "cells": [
    {
      "cell_type": "markdown",
      "metadata": {
        "id": "tKAcyAOyW8W0"
      },
      "source": [
        "# Estatística & Probabilidade - 2023/02\n",
        "\n",
        "## Projeto 02 - Calculando probabilidades com simulação estocástica\n",
        "\n",
        "### Hugo Tremonte de Carvalho\n",
        "\n",
        "#### hugo@dme.ufrj.br\n",
        "\n",
        "#### Google Classroom: `oug6dox`"
      ]
    },
    {
      "cell_type": "markdown",
      "metadata": {
        "id": "LsmMcxGPW8W1"
      },
      "source": [
        "# ⚠️ INSTRUÇÕES ⚠️ LEIAM ATENTAMENTE! ⚠️"
      ]
    },
    {
      "cell_type": "markdown",
      "metadata": {
        "id": "aSV-VmQvW8W2"
      },
      "source": [
        "* A data limite de entrega do projeto é domingo, 03/12/2023, às 23h59. Avaliações entregues após esse prazo serão desconsideradas.\n",
        "* O projeto pode ser feito em dupla.\n",
        "* A entrega deve ser feita exclusivamente através do Google Classroom, e o projeto deve ser redigido na forma de um relatório, incluindo os códigos. Para isso, use a linguagem Python dentro de um notebook do Google Colaboratory e anexe-o à atividade da seguinte forma:\n",
        "    - Dentro da turma no Google Classroom, clique em \"Atividades\".\n",
        "    \n",
        "    - No tópico \"Projetos\", clique em \"Projeto 02\" e, em seguida, em \"Ver atividade\".\n",
        "    - No canto superior direito, clique em \"+ Adicionar ou criar\" e, em seguida, selecione \"Arquivo\" ou \"Google Drive\" se optar por fazer o upload do notebook ou selecionar um arquivo do seu Google Drive, respectivamente.\n",
        "    - O título do notebook deverá ser obrigatoriamente \"SEU NOME - Projeto 02\" ou \"NOMES DA DUPLA - Projeto 02\", caso tenha optado por fazer o projeto em dupla. Nesse último caso, apenas uma das pessoas da dupla deve fazer a entrega.\n",
        "    - Para entregar o projeto, abra a atividade que o contém (conforme procedimento explicado no ponto acima) e, no canto superior direito, clique em \"ENTREGAR\" (o texto estará em uma caixa cinza, mas ele é clicável).\n",
        "    - Na tela a seguir, clique em \"Entregar\" para confirmar a entrega do trabalho.\n",
        "    - Se você se arrependeu e quiser fazer outra entrega, basta abrir a atividade, no canto superior direito clique em \"Cancelar envio\" e confirme clicando novamente em \"Cancelar envio\" na janela que irá abrir. Você pode fazer isso quantas vezes quiser até o prazo determinado.\n",
        "    - As explicações que você precisar fazer devem ser feitas em células de texto em seu notebook. Somente comentários pequenos devem ser feitos no código.\n",
        "    - Caso seja necessário, equações podem ser introduzidas em LaTeX nas células de texto.\n",
        "    - Figuras também podem ser incluídas em células de texto, tanto através de upload quanto simplesmente arrastando-a para alguma célula de texto. Nesse caso, sempre informe a fonte de onde a figura foi retirada.\n",
        "* A troca de conhecimento na realização da avaliação é permitida e encorajada: ciência se faz com colaboração, e devemos seguir esse espírito aqui. No entanto, cada aluno (ou dupla) deverá ter sua própria resolução, e cópias ou outras ilegalidades serão severamente punidas com a anulação da avaliação para o(s) aluno(s) suspeito(s).\n",
        "* Todos os passos de sua resolução devem ser devidamente justificados.\n",
        "\n",
        "* Ao entregar esta avaliação, você afirma ter lido e estar de acordo com essas regras, comprometendo-se a cumpri-las."
      ]
    },
    {
      "cell_type": "markdown",
      "metadata": {
        "id": "6jbjorsno16i"
      },
      "source": [
        "## Questão 1"
      ]
    },
    {
      "cell_type": "markdown",
      "metadata": {
        "id": "nscY444bo5vb"
      },
      "source": [
        "Disserte sobre a distribuição de Zipf (ou lei de Zipf, como também é chamada). Seu texto deve falar sobre: motivação e surgimento da distribuição, algumas de suas diversas aplicações, trazer discussões/interpretações de seus sumários numéricos (média, variância, etc.) e tratar de outros aspectos probabilísticos da distribuição que você julgue importante. Finalmente, diga como que a distribuição de Zipf se aplica em compressão de arquivos. Faça um texto o mais detalhado possível, evitando frases \"misteriosas\"; coloque referências bibliográficas para afirmações que você não irá se aprofundar."
      ]
    },
    {
      "cell_type": "markdown",
      "metadata": {},
      "source": [
        "-- sua resolução aqui --"
      ]
    },
    {
      "cell_type": "markdown",
      "metadata": {},
      "source": [
        "A Lei de Zipf, elaborada na década de 1940 pelo linguista George Kingsley Zipf, professor da Universidade de Harvard, fundamenta-se na análise da frequência lexical em obras textuais. \n",
        "Zipf analisou a obra monumental de James Joyce, Ulisses, e contou as palavras distintas, ordenando-as por frequência. Verificou-se que:\n",
        "a palavra mais comum surgia 8000 vezes;\n",
        "a décima, 800 vezes;\n",
        "a centésima, 80 vezes;\n",
        "a milésima, 8 vezes. (Wikipedia)\n",
        "\n",
        "Zipf identificou um padrão comportamental nas palavras usadas, segundo o qual a segunda palavra mais frequentemente utilizada possui uma frequência que corresponde à metade da primeira, a terceira palavra uma frequência de 1/3, e assim sucessivamente. A evidência empírica de Zipf sugere que a distribuição de elementos em uma lista hierárquica segue uma lei natural, aproximando-se da expressão $$ Pn \\approx {\\frac{1}{n^α}}$$ onde Pn é a frequência de uma palavra com a posição n em um ranking, sendo o expoente α quase 1. Este fenômeno, observado por Zipf, mostra uma regularidade na distribuição linguística, que posteriormente foi utilizada em várias áreas que também seguiam padrões semelhantes de concentração.\n",
        "\n",
        "\n",
        "A lei de Zipf pode lembrar também do princípio do Pareto que afirma que, para muitos fenômenos, grande parte dos efeitos proveem de uma porção minoritária das possíveis causas. [Referência.](https://pt.wikipedia.org/wiki/Princ%C3%ADpio_de_Pareto)\n",
        "\n",
        "\n",
        "Uma das principais aplicações da lei de zipf é a distribuição populacional das cidades. Um jeito simples de notar é \"brincando\" de ordenar de forma decrescente os dados sobre população das cidades de sua região. Divida o número de habitantes da maior cidade da região por dois. Anote, siga repetindo\n",
        "à operação acrescentando uma unidade ao denominador. Compare a lista de valores observados com a dos calculados. É provável que ambas sejam bastante semelhantes. \n",
        "\n",
        "Essa é uma aplicação, obviamente simplificada, em que podemos ver a lei de zipf em ação. Há muitos artigos que elaboram melhor as estimativas da distribuição populacional e sua relação com a lei, demonstrando que há uma grande similaridade da teoria de George Kingsley e a quantidade populacional atual. [Artigo de exemplo: A EVOLUÇÃO DA DISTRIBUIÇÃO DO TAMANHO DAS CIDADES: CASO DO NORDESTE BRASILEIRO](\n",
        "https://periodicos.ufpb.br/index.php/economia/article/download/18844/10496/34590)\n",
        "\n",
        "Também há estudos sobre a aplicação da lei de zipf em rankings futebolísticos, em magnetudes dos terremotos e até diâmetro de crateras. \n",
        "\n",
        "Como citado, uma das principais aplicaçoes de zipf é em distribuição populacional, para testar a lei de Zipf, estima-se a seguinte equação:\n",
        "$$ lnN(ni) = lnA - αln(ni) + ϵi$$\n",
        "\n",
        "onde o subscrito i refere-se a i-ésima cidade. Sendo N(ni) o rank da i-ésima cidade na distribuição. Onde A, se refere ao tamanho da maior cidade.\n",
        "Assume-se εi como tendo distribuição normal com média\n",
        "zero e variância constante\n",
        "\n",
        "Assim, existe a possibilidade de ocorrência de três casos com a estimação acima. Um é a confirmação da Lei de Zipf, ou seja, α = 1. Outro é que o valor do parâmetro estimado seja maior do\n",
        "que a unidade, α  > 1. Neste caso, diz-se que a hierarquia urbana distribui-se de forma mais igualitária,\n",
        "ou seja, as menores cidades estão, em tamanho, mais próximas das maiores cidades (o que nao vai de acordo a lei). Por fim, o caso em\n",
        "que α < 1, temos uma distribuição na qual a população encontra-se concentrada em poucas cidades, isto\n",
        "é, naquelas que ocupam as primeiras colocações do rank. Ainda é possível observar que os limites dessess casos sao α = ∞ (apenas uma cidade com toda concentração) e α = 0 (todas as cidades com o mesmo número populacional) \n",
        "\n",
        "\n",
        "Utilizando a lei de Zipf para a compreensão de arquivos\n",
        "\n"
      ]
    },
    {
      "cell_type": "markdown",
      "metadata": {
        "id": "LaL7ZvrFqrGd"
      },
      "source": [
        "## Questão 2"
      ]
    },
    {
      "cell_type": "markdown",
      "metadata": {
        "id": "QOr2y6H6rASi"
      },
      "source": [
        "O objetivo desta questão  é ilustrar que certas probabilidades podem ser calculadas malandramente de modo levemente indireto."
      ]
    },
    {
      "cell_type": "markdown",
      "metadata": {
        "id": "3JCfE3SoxEz0"
      },
      "source": [
        "a) Seja $Z$ uma variável aleatória com distribuição normal padrão, ou seja, normal com média zero e variância unitária. Argumente que $P(Z > 20)$ não é uma quantidade nula, mas que é impossível obtê-la \"ingenuamente\", ou seja, através de algum dos seguintes métodos: consultando uma tabela, utilizando as funções elementares de algum software ou pacote (por exemplo, import scipy.stats e em seguida $1 - \\text{scipy.stats.norm}(0, 1).\\text{cdf}(20)$ no Python), ou através de simulação estocástica (por exemplo, calculando a proporção de observações acima de 20 em uma grande quantidade de simulações dessa variável aleatória)."
      ]
    },
    {
      "cell_type": "markdown",
      "metadata": {},
      "source": [
        "RESPOSTA"
      ]
    },
    {
      "cell_type": "markdown",
      "metadata": {},
      "source": [
        "Primeiramente é necessário provar que a probabilidade $P(Z > 20)$ não é uma quantidade nula.\n",
        "\n",
        "A função de densidade de probabilidade da distribuição normal padrão se encontra abaixo:\n",
        "\n",
        "$$ f(x) = \\frac{1}{\\sqrt{2*\\pi}} * e^{\\frac{-x^2}{2}}$$"
      ]
    },
    {
      "cell_type": "markdown",
      "metadata": {},
      "source": [
        "Para calcular $P(Z > 20)$, podemos calcular a integral da função acima, no intervalo $]20, +\\infty[$:\n",
        "\n"
      ]
    },
    {
      "cell_type": "markdown",
      "metadata": {},
      "source": [
        "$$\\ \\int_{20}^{+\\infty} \\frac{1}{\\sqrt{2*\\pi}} * e^{\\frac{-x^2}{2}} \\;\\;dx$$\n",
        "\n",
        "Essa integral é impossível de ser calculada analiticamente, desta forma usaremos o programa em python."
      ]
    },
    {
      "cell_type": "code",
      "execution_count": null,
      "metadata": {},
      "outputs": [
        {
          "name": "stdout",
          "output_type": "stream",
          "text": [
            "P(Z > 20) = 2.753624119264353e-89\n"
          ]
        }
      ],
      "source": [
        "from scipy import integrate\n",
        "import numpy \n",
        "\n",
        "# Função de densidade de probabilidade da distribuição normal padrão\n",
        "def pdf(x):\n",
        "    return 1/ numpy.sqrt(2* numpy.pi) *  numpy.exp(-x**2/2)\n",
        "\n",
        "# Calcular a probabilidade P(Z > 20)\n",
        "probabilidade, _ = integrate.quad(lambda x: pdf(x), 20,  numpy.inf)\n",
        "\n",
        "print(\"P(Z > 20) =\", probabilidade)\n"
      ]
    },
    {
      "cell_type": "markdown",
      "metadata": {},
      "source": [
        "Pelo resultado, podemos observar que $P(Z > 20)$ não é nulo, mas é extremamente pequeno.\n",
        "\n",
        "Outra maneira de provar que esse valor não é nulo é observando o comportamento da distribuição normal padrão. \n",
        "\n",
        "\n",
        "A curva da normal padrão tem uma cauda longa e fina a direita, que se estende para o infinito sem nunca tocar o eixo x. Isso significa que existe uma probabilidade, por menor que seja, de uma variável aleatória normal padrão assumir qualquer valor real, incluindo valores muito altos.\n",
        "\n",
        "Essa probabilidade é muito pequena, mas é não-nula. Isso significa que, embora seja extremamente improvável, é possível que uma variável aleatória normal padrão assuma um valor muito alto."
      ]
    },
    {
      "cell_type": "markdown",
      "metadata": {},
      "source": [
        "Vamos agora tentar calcular ingenuamente a mesma probabilidade utilizando consulta de tabela e simulação estocástica.\n",
        "\n",
        "O código python abaixo, irá realizar a consulta de tabela, usando a função norm da biblioteca scipy.stats.\n",
        "\n",
        "norm(0,1).cdf(20) fornece o resultado de $P(Z \\leq 20)$.\n",
        "\n",
        "Para obter $P(Z > 20)$, iremos calcular 1 - $P(Z \\leq 20)$\n"
      ]
    },
    {
      "cell_type": "code",
      "execution_count": null,
      "metadata": {},
      "outputs": [
        {
          "name": "stdout",
          "output_type": "stream",
          "text": [
            "P(Z > 20) = 0.0\n"
          ]
        }
      ],
      "source": [
        "from scipy.stats import norm\n",
        "\n",
        "# Calcule a probabilidade P(Z > 20)\n",
        "probabilidade = 1 - norm(0,1).cdf(20)\n",
        "\n",
        "print(\"P(Z > 20) =\", probabilidade)\n"
      ]
    },
    {
      "cell_type": "markdown",
      "metadata": {},
      "source": [
        "Agora tentaremos calcular $P(Z > 20)$, utilizando simulação estocástica, ou seja, geração de dados aleatórios com base na distribuição normal de probabilidade e a observação do comportamento. \n",
        "\n",
        "Resumindo, iremos gerar um número grande de amostras aleatórias da diatribuição normal, e iremos calcular a probabilidade de algum número dessas amostras é maior do que 20."
      ]
    },
    {
      "cell_type": "code",
      "execution_count": null,
      "metadata": {},
      "outputs": [
        {
          "name": "stdout",
          "output_type": "stream",
          "text": [
            "P(Z > 20) estimado por simulação: 0.0\n"
          ]
        }
      ],
      "source": [
        "import numpy as np\n",
        "\n",
        "# Número de simulações\n",
        "total_simulacoes = 10**8\n",
        "\n",
        "# Gerar números aleatórios a partir da distribuição normal padrão\n",
        "amostras = np.random.normal(0, 1, total_simulacoes)\n",
        "\n",
        "# Calcular a proporção de observações maiores que 20\n",
        "proporcao = np.sum(amostras > 20) / total_simulacoes\n",
        "\n",
        "print(\"P(Z > 20) estimado por simulação:\", proporcao)\n"
      ]
    },
    {
      "cell_type": "markdown",
      "metadata": {},
      "source": [
        "Como pode ser observado, obter  $P(Z > 20)$ ingenuinamente é impossível."
      ]
    },
    {
      "cell_type": "markdown",
      "metadata": {},
      "source": [
        "b) Escreva a integral que calcula a quantidade $P(Z > 20)$, faça uma mudança de variáveis esperta e conclua que tal probabilidade pode ser expressada como $E[g(Y)]$, onde $Y$ é uma variável aleatória com distribuição uniforme no intervalo $\\left[0, \\frac{1}{20}\\right]$ e a função $g$ é dada por\n",
        "\n",
        "$$ g(y) = \\frac{1}{20y^2\\sqrt{2\\pi}} * e^{\\frac{-1}{2y^2}}$$\n"
      ]
    },
    {
      "cell_type": "markdown",
      "metadata": {},
      "source": [
        "RESPOSTA\n"
      ]
    },
    {
      "cell_type": "markdown",
      "metadata": {},
      "source": [
        "Primeiramente, é preciso descobrir qual é a mudança de variável que será realizada. Um dos indicios é a mudança de intervalo. O intervalo de integração inicial é $]20, + \\infty[$, mas com a mudança de variável é alterado para  $\\left[0, \\frac{1}{20}\\right]$.\n",
        "\n",
        "Analisando essa mudança, podemos inferir que a mudança de variável é $Y = \\frac{1}{x}$, aplicando a mudança de variavel no intervalo inicial obtemos o intervalo desejado.\n",
        "\n",
        "Agora devemos realIzar esta mudança de variável na formula da probabilidade:\n",
        "\n",
        "\n",
        "$$\\ P(Z > 20) = \\int_{20}^{+\\infty} \\frac{1}{\\sqrt{2*\\pi}} * e^{\\frac{-x^2}{2}} \\;\\;dx$$\n",
        "\n",
        "\n",
        "efetuando a mudança de variável $X = \\frac{1}{Y}$, temos:\n",
        "\n",
        "\n",
        "$$\\ P(Z > 20) =  \\int_{\\frac{1}{20}}^{0} \\frac{1}{\\sqrt{2*\\pi}} * e^{\\frac{-1}{2*y^2}} * (-\\frac{1}{y^2}) \\;\\;dy$$\n",
        "\n",
        "realizando algumas simplificações, obtemos\n",
        "\n",
        "$$\\  P(Z > 20) = - \\int_{0}^{\\frac{1}{20}} - \\frac{1}{\\sqrt{2*\\pi}*y^2} * e^{\\frac{-1}{2*y^2}}  \\;\\;dy$$\n",
        "\n",
        "No fim obtemos\n",
        "\n",
        "$$\\ P(Z > 20) =  \\int_{0}^{\\frac{1}{20}}  \\frac{1}{\\sqrt{2*\\pi}*y^2} * e^{\\frac{-1}{2*y^2}}  \\;\\;dy$$\n",
        "\n",
        "Podemos escrever essa probabilidade em função de $g(y)$\n",
        "\n",
        "$$\\ P(Z > 20) =  \\int_{0}^{\\frac{1}{20}} 20* g(y)  \\;\\;dy $$\n",
        "\n",
        "\n",
        "Segundo a Lei do estatistico preguiçoso, podemos afirmar que\n",
        "\n",
        "\n",
        "$$E[g(Y)] = \\int_{- \\infty}^{+\\infty} g(y) * f_Y(y) \\;\\;dy$$\n",
        "\n",
        "Como Y, é uma variável aleatória uniforme no intervalo $\\left[0, \\frac{1}{20}\\right]$, podemos trocar o intervalos de integração e colocar o valor de $f_Y(y)$ que é igual a $\\frac{1}{\\frac{1}{20} - 0}$\n",
        "\n",
        "$$E[g(Y)] = \\int_{0}^{\\frac{1}{20}} g(y) * \\frac{1}{\\frac{1}{20} - 0} \\;\\;dy$$\n",
        "\n",
        "simplificando, obtemos\n",
        "\n",
        "$$E[g(Y)] = \\int_{0}^{\\frac{1}{20}} 20*g(y) \\;\\;dy$$\n",
        "\n",
        "Sendo assim podemos conculir que \n",
        "\n",
        "$$ P(Z > 20) = E[g(Y)] $$\n",
        "\n",
        "sendo $ g(y) = \\frac{1}{20y^2\\sqrt{2\\pi}} * e^{\\frac{-1}{2y^2}}$\n",
        "\n",
        "\n",
        "\n",
        "$$$$\n",
        "$$$$"
      ]
    },
    {
      "cell_type": "markdown",
      "metadata": {},
      "source": [
        "c) Usando o resultado do item b), encontre uma aproximação para $P(Z > 20)$ através de simulações da variável aleatória $Y$.\n"
      ]
    },
    {
      "cell_type": "markdown",
      "metadata": {},
      "source": [
        "RESPOSTA"
      ]
    },
    {
      "cell_type": "markdown",
      "metadata": {},
      "source": [
        "Como foi mostrado no item b, $E[g(Y)]$ pode ser uma boa aproximação do valor de $P(Z > 20)$, vamos encontrar este valor utilizando o programa de python abaixo"
      ]
    },
    {
      "cell_type": "code",
      "execution_count": 1,
      "metadata": {},
      "outputs": [
        {
          "name": "stdout",
          "output_type": "stream",
          "text": [
            "Valor esperado de g(Y) para a distribuição uniforme em [0, 1/20]: 2.126587437769278e-89\n",
            "Dessa forma, P(Z > 20): 2.126587437769278e-89\n"
          ]
        }
      ],
      "source": [
        "import numpy as np\n",
        "\n",
        "# Definir os parâmetros da distribuição uniforme para Y\n",
        "a = 0\n",
        "b = 1/20\n",
        "\n",
        "# Definir a função g(y)\n",
        "def g(y):\n",
        "    return (1 / (20 * y**2 * np.sqrt(2 * np.pi))) * np.exp(-1 / (2 * y**2))\n",
        "\n",
        "# Número de amostras\n",
        "amostras = 10**4\n",
        "\n",
        "# Gerar amostras de Y a partir da distribuição uniforme\n",
        "amostras_Y = np.random.uniform(a, b, amostras)\n",
        "\n",
        "# Calcular g(Y) para cada amostra\n",
        "amostras_g_Y = [g(y) for y in amostras_Y]\n",
        "\n",
        "# Calcular a média esperada de g(Y)\n",
        "esperanca_g_Y = np.mean(amostras_g_Y)\n",
        "\n",
        "print(f'Valor esperado de g(Y) para a distribuição uniforme em [0, 1/20]: {esperanca_g_Y}')\n",
        "print(f'Dessa forma, P(Z > 20): {esperanca_g_Y}')\n"
      ]
    },
    {
      "cell_type": "markdown",
      "metadata": {},
      "source": [
        "d) Ao se repetir o processo do item c) diversas vezes, você obterá várias estimativas para $P(Z > 20)$. Estime a incerteza em tais estimativas, justificando o seu procedimento. Discuta o que acontece com tal incerteza à medida que a quantidade de simulações de $Y$ aumenta.\n"
      ]
    },
    {
      "cell_type": "markdown",
      "metadata": {},
      "source": [
        "Vamos então repetir o processo de estimar o valor de $P(Z > 20)$, mas calcular a incerteza dessas estimativas podemos calcular o desvio padrão, pois quando o desvio padrão é pequeno, os valores estão próximos à média, indicando uma incerteza pequena. Por outro lado, um desvio padrão maior sugere uma incerteza maior."
      ]
    },
    {
      "cell_type": "markdown",
      "metadata": {},
      "source": [
        "Para calcular o desvio padrão, devemos calcular a variância. Abaixo se encontram as fórmulas que utilizaremos no calculo das incertezas."
      ]
    },
    {
      "cell_type": "markdown",
      "metadata": {},
      "source": [
        "\n",
        "Sendo $A$ os valores das estimativas para $P(Z > 20)$ \n",
        "\n",
        "$$Var(A) = E[(A - E[A])^2]$$\n",
        "$$dp(A) = \\sqrt{Var(A)}$$\n",
        "$$dp(A) = \\sqrt{E[(A - E[A])^2]}$$"
      ]
    },
    {
      "cell_type": "code",
      "execution_count": 13,
      "metadata": {},
      "outputs": [
        {
          "name": "stdout",
          "output_type": "stream",
          "text": [
            "incerteza em tais estimativas de P(Z > 20): 3.6266675975106236e-90\n"
          ]
        }
      ],
      "source": [
        "\n",
        "# Definir a função g(y)\n",
        "def g(y):\n",
        "        return (1 / (20 * y**2 * np.sqrt(2 * np.pi))) * np.exp(-1 / (2 * y**2))\n",
        "\n",
        "\n",
        "\n",
        "#calculo da incerteza das estimativas\n",
        "def calculo_incerteza(repeticoes_das_estimativas, n_amostras_y):\n",
        "\n",
        "    #valores para as estimativas de P(Z > 20)\n",
        "    esperancaS_g_Y = []\n",
        "\n",
        "    # Definir os parâmetros da distribuição uniforme para Y\n",
        "    a = 0\n",
        "    b = 1/20\n",
        "\n",
        "    for _ in range(repeticoes_das_estimativas):\n",
        "\n",
        "        # Gerar amostras de Y a partir da distribuição uniforme\n",
        "        amostras_Y = np.random.uniform(a, b, n_amostras_y)\n",
        "\n",
        "        # Calcular g(Y) para cada amostra\n",
        "        amostras_g_Y = [g(y) for y in amostras_Y]\n",
        "\n",
        "        # Calcular a média esperada de g(Y) == estimativa para P(Z > 20)\n",
        "        esperanca_g_Y = np.mean(amostras_g_Y)\n",
        "\n",
        "        # array que vai guardar varios valores de E[g(y)]\n",
        "        esperancaS_g_Y.append(esperanca_g_Y)\n",
        "\n",
        "\n",
        "    # Calculo da variância\n",
        "    variancia = np.mean([(y-np.mean(esperancaS_g_Y))**2 for y in esperancaS_g_Y])\n",
        "\n",
        "\n",
        "    #Calculo do desvio padrão\n",
        "    desvio_padrao = np.sqrt(variancia)\n",
        "\n",
        "    return desvio_padrao\n",
        "\n",
        "desvio_padrao = calculo_incerteza(100, 10**4)\n",
        "\n",
        "print(f'incerteza em tais estimativas de P(Z > 20): {desvio_padrao}')"
      ]
    },
    {
      "cell_type": "markdown",
      "metadata": {},
      "source": [
        "Vamos agora vamos entender o comportamento dessa incerteza quanto mais nós aumentamos a quantidade de simulações de $Y$. Abaixo realizaremos simulações aumentando o valor de $Y$, buscando compreender o impacto que esse aumento tem."
      ]
    },
    {
      "cell_type": "code",
      "execution_count": 16,
      "metadata": {},
      "outputs": [
        {
          "name": "stdout",
          "output_type": "stream",
          "text": [
            "incerteza em tais estimativas de P(Z > 20), para quantidade de simulações de y igual a 10000:   3.271681824923966e-90\n",
            "incerteza em tais estimativas de P(Z > 20), para quantidade de simulações de y igual a 100000:  1.324563680894924e-90\n",
            "incerteza em tais estimativas de P(Z > 20), para quantidade de simulações de y igual a 1000000: 3.69882797692689e-91\n"
          ]
        }
      ],
      "source": [
        "# atenção, este trecho de código demora cerca de 9 minutos para concluir\n",
        "print(f'incerteza em tais estimativas de P(Z > 20), para quantidade de simulações de y igual a 10000:   {calculo_incerteza(100, 10**4)}')\n",
        "print(f'incerteza em tais estimativas de P(Z > 20), para quantidade de simulações de y igual a 100000:  {calculo_incerteza(100, 10**5)}')\n",
        "print(f'incerteza em tais estimativas de P(Z > 20), para quantidade de simulações de y igual a 1000000: {calculo_incerteza(100, 10**6)}')"
      ]
    },
    {
      "cell_type": "markdown",
      "metadata": {},
      "source": [
        "Como podemos observar com base nas simulações acima, a medida que aumentamos a quantidade de amostras de $Y$, nossa incerteza vai diminuindo."
      ]
    },
    {
      "cell_type": "markdown",
      "metadata": {
        "id": "O5OXB7gtxKCL"
      },
      "source": [
        "## Questão 3"
      ]
    },
    {
      "cell_type": "markdown",
      "metadata": {
        "id": "IvZ5zfcTxVYx"
      },
      "source": [
        "Um inseto se move aleatoriamente em um tabuleiro de tamanho 5 × 5 de acordo com a seguinte regra:\n",
        "A cada movimento, ele tem igual probabilidade de saltar para alguma das casas adjacentes àquela ocupada, onde não considera-se casas na diagonal como adjacentes. No entanto, na casa do canto superior esquerdo há uma armadilha que imobiliza o inseto. Na casa do canto inferior direito há um portal que transporta o inseto para qualquer outra casa do tabuleiro, com igual probabilidade. Finalmente, nas casas dos cantos superior direito e inferior esquerdo, há portais que transportam o inseto entre essas casas somente. Com base nessa descrição, faça o que se pede abaixo."
      ]
    },
    {
      "cell_type": "markdown",
      "metadata": {
        "id": "psZKODw_zLMj"
      },
      "source": [
        "a) Justifique que uma cadeia de Markov é um modelo adequado para descrever tal situação e construa a matriz de probabilidades de transição desse processo.\n",
        "\n"
      ]
    },
    {
      "cell_type": "markdown",
      "metadata": {},
      "source": [
        "RESPOSTA"
      ]
    },
    {
      "cell_type": "markdown",
      "metadata": {
        "id": "VQSdGXm5zWH7"
      },
      "source": [
        "A modelagem como uma cadeia de Markov é uma boa escolha para descrever o movimento do inseto no tabuleiro, pois atende à propriedade fundamental: a dependência apenas do estado atual para a escolha do próximo estado. Nesse contexto, a posição atual do inseto já possui toda a informação relevante para determinar suas probabilidades de movimento, tornando a cadeia de Markov uma escolha adequada para representar esse processo."
      ]
    },
    {
      "cell_type": "markdown",
      "metadata": {},
      "source": [
        "Agora vamos montar a a matriz de probabilidades de transição, que vai descrever as probabilidades de transição entre os estados do sistema. Como são 25 casas no tabuleiro, serão 25 estados. Agora vamos entender quais são as probabilidades para cada tipo de casa do tabuleiro:\n",
        "\n",
        "* A cada movimento, ele tem igual probabilidade de saltar para alguma das casas adjacentes àquela ocupada.\n",
        "\n",
        "* Dessa forma, para as casas das paredes, excluindo-se as dos cantos, há a probabilidade de $\\frac{1}{3}$ para cada uma das 3 casas adjacentes.\n",
        "\n",
        "* Para casas que se encontram no centro do tabuleiro, há a probabilidade de $\\frac{1}{4}$ para cada uma das 4 casas adjacentes.\n",
        "\n",
        "* Na casa do canto inferior direito há um portal que transporta o inseto para qualquer outra casa do tabuleiro, com igual probabilidade, sendo assim há a probabilidade de $\\frac{1}{24}$ para cada uma das outras 24.\n",
        "\n",
        "* Na casa do canto superior esquerdo há uma armadilha que imobiliza o inseto, assim há a probabilidade de $\\frac{1}{1}$ de permanecer na mesma casa.\n",
        "\n",
        "* Por fim nas casas dos cantos superior direito e inferior esquerdo há portais que transportam o inseto entre essas casas somente, assim para cada casa há a probabilidade de $\\frac{1}{1}$ de ir para a outra casa com o portal.\n",
        "\n",
        "Com todas essas informações será possivel construir a matriz de transição do jogo"
      ]
    },
    {
      "cell_type": "markdown",
      "metadata": {},
      "source": [
        "| m | 1,1 | 1,2 | 1,3 | 1,4 | 1,5 | 2,1 | 2,2 | 2,3 | 2,4 | 2,5 | 3,1 | 3,2 | 3,3 | 3,4 | 3,5 | 4,1 | 4,2 | 4,3 | 4,4 | 4,5 | 5,1 | 5,2 | 5,3 | 5,4 | 5,5 |\n",
        "|-----------|---|---|---|---|---|---|---|---|---|---|---|---|---|---|---|---|---|---|---|---|---|---|---|---|---|\n",
        "|(1,1)| 1 | 0 | 0 | 0 | 0 | 0 |0 | 0 |0| 0 | 0 | 0 | 0 | 0 |0 | 0 | 0 |0 | 0 | 0 | 0 |0 | 0 | 0 | 0 |\n",
        "| (1,2)      | $\\frac{1}{3}$  | 0 | $\\frac{1}{3}$  | 0 | 0 | 0 |$\\frac{1}{3}$  | 0 |0| 0 | 0 | 0 | 0 | 0 |0 | 0 | 0 |0 | 0 | 0 | 0 |0 | 0 | 0 | 0 |\n",
        "| (1,3)      | 0 | $\\frac{1}{3}$  | 0 | $\\frac{1}{3}$  | 0 | 0 | 0 |$\\frac{1}{3}$  | 0 |0| 0 | 0 | 0 | 0 | 0 |0 | 0 | 0 |0 | 0 | 0 | 0 |0 | 0 | 0 |\n",
        "| (1,4)      | 0 |  0 | $\\frac{1}{3}$  | 0 | $\\frac{1}{3}$  | 0 | 0 | 0 |$\\frac{1}{3}$  | 0 |0| 0 | 0 | 0 | 0 | 0 |0 | 0 | 0 |0 | 0 | 0 | 0 |0 | 0 |\n",
        "| (1,5)      |  0 |  0 | 0  | 0 |  0 | 0 | 0 | 0 | 0  | 0 |0| 0 | 0 | 0 | 0 | 0 |0 | 0 | 0 |0 | 1 | 0 | 0 |0 | 0 |\n",
        "| (2,1)      | $\\frac{1}{3}$  | 0 | 0 | 0 | 0 | 0 |$\\frac{1}{3}$  | 0 |0| 0 | $\\frac{1}{3}$ | 0 | 0 | 0 |0 | 0 | 0 |0 | 0 | 0 | 0 |0 | 0 | 0 | 0 |\n",
        "| (2,2) | 0  | $\\frac{1}{4}$ | 0 | 0 | 0 | $\\frac{1}{4}$ | 0  | $\\frac{1}{4}$ |0| 0 |0 | $\\frac{1}{4}$ | 0 | 0 |0 | 0 | 0 |0 | 0 | 0 | 0 |0 | 0 | 0 | 0 |\n",
        "| (2,3) | 0 |0 | $\\frac{1}{4}$ | 0 | 0 | 0 | $\\frac{1}{4}$ | 0  | $\\frac{1}{4}$ |0| 0 |0 | $\\frac{1}{4}$ | 0 | 0 |0 | 0 | 0 |0 | 0 | 0 | 0 |0 | 0 | 0 | \n",
        "| (2,4) | 0 | 0 |0 | $\\frac{1}{4}$ | 0 | 0 | 0 | $\\frac{1}{4}$ | 0  | $\\frac{1}{4}$ |0| 0 |0 | $\\frac{1}{4}$ | 0 | 0 |0 | 0 | 0 |0 | 0 | 0 | 0 |0 | 0 |\n",
        "| (2,5)      | 0  | 0 | 0 | 0 | $\\frac{1}{3}$  | 0 | 0  | 0 | $\\frac{1}{3}$ | 0 | 0 | 0 | 0 | 0 |$\\frac{1}{3}$  | 0 | 0 |0 | 0 | 0 | 0 |0 | 0 | 0 | 0 |\n",
        "| (3,1)     | 0 | 0 |0 | 0 | 0   | $\\frac{1}{3}$  | 0 | 0 | 0 | 0 | 0 |$\\frac{1}{3}$  | 0 |0| 0 | $\\frac{1}{3}$ | 0 | 0 | 0 |0 | 0 | 0 |0 | 0 | 0 |\n",
        "| (3,2) | 0 | 0 |0 | 0 | 0 | 0  | $\\frac{1}{4}$ | 0 | 0 | 0 | $\\frac{1}{4}$ | 0  | $\\frac{1}{4}$ |0| 0 |0 | $\\frac{1}{4}$ | 0 | 0 |0 | 0 | 0 |0 | 0 | 0 |\n",
        "| (3,3) | 0 | 0 |0 | 0 | 0| 0 |0 | $\\frac{1}{4}$ | 0 | 0 | 0 | $\\frac{1}{4}$ | 0  | $\\frac{1}{4}$ |0| 0 |0 | $\\frac{1}{4}$ | 0 | 0 |0 | 0 | 0 |0 | 0 |\n",
        "| (3,4) | 0 | 0 |0 | 0 | 0| 0 | 0 |0 | $\\frac{1}{4}$ | 0 | 0 | 0 | $\\frac{1}{4}$ | 0  | $\\frac{1}{4}$ |0| 0 |0 | $\\frac{1}{4}$ | 0 | 0 |0 | 0| 0|0 |     \n",
        "| (3,5)      | 0 | 0 |0 | 0 | 0 | 0  | 0 | 0 | 0 | $\\frac{1}{3}$  | 0 | 0  | 0 | $\\frac{1}{3}$ | 0 | 0 | 0 | 0 | 0 |$\\frac{1}{3}$  | 0 | 0 |0 | 0 | 0 |\n",
        "| (4,1)     | 0 | 0 |0 | 0 | 0   |  0 | 0 |0 | 0 | 0   | $\\frac{1}{3}$  | 0 | 0 | 0 | 0 | 0 |$\\frac{1}{3}$  | 0 |0| 0 | $\\frac{1}{3}$ | 0 | 0 | 0 |0 |\n",
        "| (4,2) | 0 | 0 |0 | 0 | 0| 0 | 0 |0 | 0 | 0 | 0  | $\\frac{1}{4}$ | 0 | 0 | 0 | $\\frac{1}{4}$ | 0  | $\\frac{1}{4}$ |0| 0 |0 | $\\frac{1}{4}$ | 0 | 0 |0 |\n",
        "| (4,3) |0|0|0|0|0| 0 | 0 |0 | 0 | 0| 0 |0 | $\\frac{1}{4}$ | 0 | 0 | 0 | $\\frac{1}{4}$ | 0  | $\\frac{1}{4}$ |0| 0 |0 | $\\frac{1}{4}$ | 0 | 0 |\n",
        "| (4,4) |0|0|0|0|0| 0 | 0 |0 | 0 | 0| 0 | 0 |0 | $\\frac{1}{4}$ | 0 | 0 | 0 | $\\frac{1}{4}$ | 0  | $\\frac{1}{4}$ |0| 0 |0 | $\\frac{1}{4}$ | 0 |\n",
        "| (4,5)      | 0 | 0 |0 | 0 | 0 | 0 | 0 |0 | 0 | 0 | 0  | 0 | 0 | 0 | $\\frac{1}{3}$  | 0 | 0  | 0 | $\\frac{1}{3}$ | 0 | 0 | 0 | 0 | 0 |$\\frac{1}{3}$  |\n",
        "| (5,1)      |  0 |  0 | 0  | 0 |  1 | 0 | 0 | 0 | 0  | 0 |0| 0 | 0 | 0 | 0 | 0 |0 | 0 | 0 |0 | 0 | 0 | 0 |0 | 0 |\n",
        "| (5,2)      | 0 | 0 |0 | 0 | 0 | 0 | 0 |0 | 0 | 0 | 0  | 0 | 0 | 0 | 0  | 0 | $\\frac{1}{3}$  | 0 | 0 | 0 | $\\frac{1}{3}$ | 0 | $\\frac{1}{3}$ | 0 |0  |\n",
        "| (5,3)      |0| 0 | 0 |0 | 0 | 0 | 0 | 0 |0 | 0 | 0 | 0  | 0 | 0 | 0 | 0  | 0 | $\\frac{1}{3}$  | 0 | 0 | 0 | $\\frac{1}{3}$ | 0 | $\\frac{1}{3}$ | 0 |\n",
        "| (5,4)      |0|0| 0 | 0 |0 | 0 | 0 | 0 | 0 |0 | 0 | 0 | 0  | 0 | 0 | 0 | 0  | 0 | $\\frac{1}{3}$  | 0 | 0 | 0 | $\\frac{1}{3}$ | 0 | $\\frac{1}{3}$ | \n",
        "| (5,5)      | $\\frac{1}{24}$ | $\\frac{1}{24}$ | $\\frac{1}{24}$ | $\\frac{1}{24}$ | $\\frac{1}{24}$ | $\\frac{1}{24}$ | $\\frac{1}{24}$ | $\\frac{1}{24}$ | $\\frac{1}{24}$ | $\\frac{1}{24}$ | $\\frac{1}{24}$ | $\\frac{1}{24}$ | $\\frac{1}{24}$ | $\\frac{1}{24}$ | $\\frac{1}{24}$ | $\\frac{1}{24}$ | $\\frac{1}{24}$ | $\\frac{1}{24}$ | $\\frac{1}{24}$ | $\\frac{1}{24}$ | $\\frac{1}{24}$ | $\\frac{1}{24}$ | $\\frac{1}{24}$ | $\\frac{1}{24}$ | 0 |\n"
      ]
    },
    {
      "cell_type": "markdown",
      "metadata": {
        "id": "2Vfan0FPzWfw"
      },
      "source": [
        "b) Construa um algoritmo para simular a posição do inseto, no qual é possível selecionar a casa do tabuleiro onde o inseto se localiza inicialmente."
      ]
    },
    {
      "cell_type": "markdown",
      "metadata": {
        "id": "91y2XZ2dzeqp"
      },
      "source": [
        "RESPOSTA"
      ]
    },
    {
      "cell_type": "markdown",
      "metadata": {},
      "source": [
        "Para montar o algoritmo, primeiramente é necessário montar a matriz de transição de probabilidade seguindo a estrutura mostrada no item a. \n",
        "\n",
        "A partir da posicao inicial fornecida, o algoritmo irá primeiramente converter a posicao.\n",
        "Depois irá realizar uma escolha aleatória com base na distribuição de probabilidades associada a posicao em que o inseto se encontra.\n",
        "\n",
        "O código abaixo, irá realizar a simulação seguindo essa descricão."
      ]
    },
    {
      "cell_type": "code",
      "execution_count": 20,
      "metadata": {},
      "outputs": [
        {
          "name": "stdout",
          "output_type": "stream",
          "text": [
            "Posição inicial: (1, 1)\n",
            "Posição final após um passo do inseto : (1, 1)\n"
          ]
        }
      ],
      "source": [
        "import numpy as np\n",
        "import math\n",
        "\n",
        "def create_matrix():\n",
        "    n = 25\n",
        "    # Inicializa a matriz com zeros\n",
        "    matrix = np.zeros((n, n))\n",
        "\n",
        "    # Preenche a matriz com os padrões específicos\n",
        "    for i in range(n):\n",
        "        if i == 1 or i == 2 or i == 3:\n",
        "            matrix[i, i-1] = matrix[i, i+1] = matrix[i, i+5] = 1/3\n",
        "        elif i == 21 or i == 22 or i == 23:\n",
        "            matrix[i, i-1] = matrix[i, i+1] = matrix[i, i-5] = 1/3\n",
        "        elif i == 5 or i == 10 or i == 15:\n",
        "            matrix[i, i+5] = matrix[i, i+1] = matrix[i, i-5] = 1/3\n",
        "        elif i == 9 or i == 14 or i == 19:\n",
        "            matrix[i, i+5] = matrix[i, i-1] = matrix[i, i-5] = 1/3\n",
        "        elif i != 0 and i != 24 and i != 4 and i != 20:\n",
        "            matrix[i, i+5] = matrix[i, i-1] = matrix[i, i+1] = matrix[i, i-5] = 1/4\n",
        "\n",
        "    matrix[0, 0] = 1\n",
        "    matrix[4, 20] = matrix[20, 4] = 1\n",
        "    matrix[-1, :] = 1/24\n",
        "    matrix[24, 24] = 0\n",
        "\n",
        "\n",
        "    return matrix\n",
        "\n",
        "#dado uma posicao inicial, a função retorna a posição do inseto após n passos, caso nao seja requisitado o numeto de passos, o \n",
        "# algoritmo simulará apenas 1 passo\n",
        "def simula_posicao(posicao_inicial, passos=1):\n",
        "\n",
        "    #Por convenção a primeira posição do tabuleiro é (1,1)\n",
        "    i = posicao_inicial[0] -1\n",
        "    j = posicao_inicial[1] -1\n",
        "\n",
        "    # Cria a matriz de transição de probabilidade\n",
        "    matriz_de_transicao = create_matrix()\n",
        "\n",
        "    # Converte as coordenadas iniciais para o formato unidimensional\n",
        "    estado_inicial = i  * 5 + j\n",
        "\n",
        "    # Simula o movimento do inseto\n",
        "    estado_atual = estado_inicial\n",
        "\n",
        "\n",
        "    for _ in range(passos):\n",
        "    # Realiza a escolha aleatória com base na Distribuição de probabilidades associada ao estado atual\n",
        "        estado_atual = np.random.choice(25, 1, p=matriz_de_transicao[estado_atual])[0]\n",
        "\n",
        "    # Converte a posição final de volta para coordenadas (i, j)\n",
        "    final_i, final_j = divmod(estado_atual , 5)\n",
        "\n",
        "    #somamos 1 para reverter para convenção\n",
        "    return final_i +1, final_j+1\n",
        "\n",
        "\n",
        "\n",
        "#teste\n",
        "inicial = (1, 1)  \n",
        "\n",
        "\n",
        "final = simula_posicao(inicial)\n",
        "\n",
        "print(f\"Posição inicial: {inicial}\")\n",
        "print(f\"Posição final após um passo do inseto : {final}\")\n",
        "               \n",
        "\n",
        "\n"
      ]
    },
    {
      "cell_type": "markdown",
      "metadata": {
        "id": "ydxZsnFe0by_"
      },
      "source": [
        "c) Utilizando o algoritmo do item b, encontre uma aproximação para a probabilidade do inseto ser capturado pela armadilha do tabuleiro. Note que tal quantidade será função da casa inicialmente ocupada pelo inseto. Justifique intuitivamente o resultado obtido."
      ]
    },
    {
      "cell_type": "markdown",
      "metadata": {
        "id": "iUJS3YwD4wrA"
      },
      "source": [
        "-- sua resolução aqui --"
      ]
    },
    {
      "cell_type": "markdown",
      "metadata": {},
      "source": [
        "REESCREVER"
      ]
    },
    {
      "cell_type": "markdown",
      "metadata": {},
      "source": [
        "Para calcular qual a probabilidade de ser capturado por cada casa, criaremos uma estrutura de repetiçao que rodará 25 vezes, a fim de assumir todas as possibilidades iniciais do inseto, começando em (1,1) até (5,5) do tabuleiro. Após, selecionamos um número de simulações para que as probabilidades de cada casa sejam calculadas e obtenhamos uma média dessas probabilidades. Repare que a média é sempre por casa, então nosso resultado final contará com 25 probabilidades correspondentes. Dentro das simulações, o algoritmo do item b foi utilizado, o qual simula a posição do inseto pelo tabuleiro, a partir da sua casa inicial. Se o resultado do item b for a casa (1,1), que contém a armadilha, então contabilizamos para a quantidade de vezes que o inseto foi capturado.\n",
        "\n",
        "O resultado obtido não é surpreendente, o analisemos de forma intuitiva a seguir. Se a posição inicial for a casa da armadilha, a probabilidade do inseto cair nela é 100%, já que tem-se como condicional que já caiu.  Nas casas ao redor da armadilha, como (1,2), (2,1) e (2,2), ou seja, casas a um passo de distância da armadilha, a probabilidade é mais alta das mais afastadas. Ainda, se o ponto inicial for os cantos superior direito e o inferior esquerdo, com os portais, jamais cairá na casa com armadilha. Por fim, quanto mais perto a casa inicial for dos portais dos cantos superior direito e inferior esquerdo, menor a probabilidade dele cair na armadilha, haja vista que os portais \"prendem\" o inseto em suas casas, o enviando de uma para outra a cada passo. De forma intuitiva também podemos pensar que a probabilidade de quando o inseto começa no canto inferior direito de cair na armadilha, é uma média inferior a das casas mais próximas da casa da morte, porque o inseto pode tanto ir próximo dela - ou para ela -, como também ir próximo dos portais - ou para eles, que sçao duas casas, ao invés de uma como a armadilha, sendo essa segunda parte com probabilidades menores dele cair na armadilha, dando uma diminuída na média final que é a probabilidade de cair na armadilha a partir do portal do canto inferior direito, o qual leva a qualquer outra casa do tabuleiro com igual probabilidade.\n",
        "Por fim, vimos como resultado do algoritmo, com números muito mais precisos, o que já conseguiamos pensar de modo intuitivo. "
      ]
    },
    {
      "cell_type": "code",
      "execution_count": 11,
      "metadata": {},
      "outputs": [
        {
          "name": "stdout",
          "output_type": "stream",
          "text": [
            "[[1.     0.634  0.421  0.234  0.    ]\n",
            " [0.6525 0.5035 0.3785 0.273  0.1635]\n",
            " [0.4135 0.392  0.345  0.276  0.25  ]\n",
            " [0.217  0.26   0.277  0.281  0.2835]\n",
            " [0.     0.1835 0.249  0.2935 0.3315]]\n"
          ]
        }
      ],
      "source": [
        "def probabilidade_capturado():\n",
        "\n",
        "    n = 5\n",
        "    # Inicializa a matriz com zeros\n",
        "    matriz_capturado = np.zeros((n, n))\n",
        "    for i in range(n):\n",
        "        for j in range(n):\n",
        "            #contagem de vezes que foi capturado\n",
        "            cont_capturado = 0\n",
        "\n",
        "            #numero de simulações por posição\n",
        "            simulacoes = 2000\n",
        "            \n",
        "            for _ in range(simulacoes):\n",
        "                #inicializa a posição\n",
        "                posicao = (i+1, j+1)\n",
        "\n",
        "                # o inseto anda até atingir uma das condições de parada\n",
        "                while True:\n",
        "                    #simula um salto\n",
        "                    posicao = simula_posicao(posicao, 1)\n",
        "\n",
        "                    #condição de parada (ser capturado) ou (cair em um dos portais)\n",
        "                    if posicao == (1,1) or posicao == (1,5) or posicao == (5,1):\n",
        "\n",
        "                        #verifica se o inseto foi capturado\n",
        "                        if posicao == (1,1):\n",
        "                            \n",
        "                            #contabiliza as vezes que o inseto é capturado\n",
        "                            cont_capturado = cont_capturado + 1     \n",
        "                        break\n",
        "            #insere em cada posição a probilidade do inseto ser capturado                    \n",
        "            matriz_capturado[i, j] = cont_capturado/simulacoes\n",
        "\n",
        "    #retorna a matriz  do inseto ser capturado pela armadilha, a partir de cada posição      \n",
        "    return matriz_capturado                \n",
        "\n",
        "print(probabilidade_capturado())\n",
        "    "
      ]
    },
    {
      "cell_type": "markdown",
      "metadata": {},
      "source": [
        "d) Também usando o algoritmo do item b, encontre uma aproximação para o número médio de saltos que o inseto dá antes de ser capturado pela armadilha. Analogamente ao item c, isso também será uma função da casa inicialmente ocupada no tabuleiro. Qual casa inicial maximiza o número médio de saltos do inseto antes de ser capturado?"
      ]
    },
    {
      "cell_type": "markdown",
      "metadata": {},
      "source": [
        "-- sua resolução aqui --"
      ]
    },
    {
      "cell_type": "code",
      "execution_count": 19,
      "metadata": {},
      "outputs": [
        {
          "name": "stdout",
          "output_type": "stream",
          "text": [
            "[[ 0.          5.04868217 10.5985315  14.1000878  -1.        ]\n",
            " [ 5.31712244  9.2212907  13.96833977 17.45906542 19.11634671]\n",
            " [10.62541568 14.21870089 17.32309985 19.95299605 20.0552    ]\n",
            " [13.62686567 17.54371482 19.14249084 20.16825397 18.32704187]\n",
            " [-1.         19.86212718 20.08209256 18.46594005 12.98601399]]\n",
            "\n",
            "Posição inicial do inseto no tabuleiro com maior numero medio de saltos antes de ser capturado: (4, 4)\n"
          ]
        }
      ],
      "source": [
        "def numero_medio_saltos():\n",
        "\n",
        "    n = 5\n",
        "    # Inicializa a matriz com zeros\n",
        "    matriz_numero_medio = np.zeros((n, n))\n",
        "    \n",
        "    for i in range(n):\n",
        "        for j in range(n):\n",
        "\n",
        "            #total de simulações por casa\n",
        "            simulacoes = 10000\n",
        "\n",
        "             #contabiliza as simulações validas (simulações que terminam com o inseto capturado)\n",
        "            contagem_simulacoes_validas = 0\n",
        "\n",
        "            #contabiliza o total de saltos até ser capturado em todas as simulações validas\n",
        "            soma_saltos = 0\n",
        "\n",
        "            for _ in range(simulacoes):\n",
        "\n",
        "                 #inicializa a posição\n",
        "                posicao = (i+1, j+1)\n",
        "                \n",
        "                #contabiliza o total de saltos até ser capturado por simulação valida\n",
        "                saltos =0\n",
        "                \n",
        "                while True:\n",
        "                    #simula um salto\n",
        "                    posicao = simula_posicao(posicao, 1)\n",
        "\n",
        "                     #condição de parada (ser capturado) ou (cair em um dos portais)\n",
        "                    if posicao == (1,1) or posicao == (1,5) or posicao == (5,1):\n",
        "                        \n",
        "                        #verifica se o inseto foi capturado\n",
        "                        if posicao == (1,1):\n",
        "\n",
        "                            #como o inseto foi capturado os saltos podem ser contabilizadas\n",
        "                            soma_saltos = soma_saltos + saltos\n",
        "                            \n",
        "                            #como o inseto foi capturado a simulação é valida\n",
        "                            contagem_simulacoes_validas = contagem_simulacoes_validas + 1\n",
        "                        break\n",
        "                    else:\n",
        "                        #contabiliza mais um salto durante a simulaçao \n",
        "                        # (esse salto só sera contabilizado realmente, se ao final o inseto for capturado)\n",
        "                        saltos = saltos +1\n",
        "\n",
        "            # caso nao haja simulações validas, quer dizer que ou o inseto jamais vai ser capturado, a patrir desta posicao \n",
        "            # ou seja, o inseto começou em algum dos portais\n",
        "            if contagem_simulacoes_validas ==0:\n",
        "                if (i==0 and j==4) or (i==4 and j==0):\n",
        "                    matriz_numero_medio[i,j]=    -1\n",
        "            else:\n",
        "\n",
        "                #caso haja simulações validas, o calculo da media de saltos é realizado\n",
        "\n",
        "                matriz_numero_medio[i, j] = soma_saltos/contagem_simulacoes_validas\n",
        "    \n",
        "    #retorno da matriz de saltos medio ate ser capturado, por cada posicao\n",
        "    return matriz_numero_medio                \n",
        "\n",
        "\n",
        "matriz_saltos = numero_medio_saltos()\n",
        "print(matriz_saltos)\n",
        "\n",
        "# verifica a partir de qual a posicao é é realizado o maior numero de saltos em media, ate ser capturado\n",
        "i, j = np.unravel_index(np.argmax(matriz_saltos), matriz_saltos.shape)\n",
        "\n",
        "\n",
        "print(f\"\\nPosição inicial do inseto no tabuleiro com maior numero medio de saltos antes de ser capturado: ({i+1}, {j+1})\")"
      ]
    },
    {
      "cell_type": "markdown",
      "metadata": {},
      "source": [
        "e) Assumindo que a posição inicial do inseto é a casa central, quantas outras visitas ele faz, em média, à casa central antes de ser capturado pela armadilha?"
      ]
    },
    {
      "cell_type": "markdown",
      "metadata": {},
      "source": [
        "-- sua resolução aqui --"
      ]
    },
    {
      "cell_type": "code",
      "execution_count": 10,
      "metadata": {},
      "outputs": [
        {
          "name": "stdout",
          "output_type": "stream",
          "text": [
            "\n",
            "Partindo da posicao inicial, o inseto passa pela posicao central 1.3096309630963097 vezes, antes de ser capturado\n"
          ]
        }
      ],
      "source": [
        "def numero_medio_saltos_centro():\n",
        "\n",
        "    #contabiliza o total de simulações\n",
        "    simulacoes = 10**5\n",
        "\n",
        "    #contabiliza o somatorio de todas as visitas feitas, nas simulações validas(simulações que terminam com o inseto capturado)\n",
        "    soma_visitas = 0\n",
        "\n",
        "    #contabiliza as simulações validas (simulações que terminam com o inseto capturado)\n",
        "    cont_simulacoes_validas = 0\n",
        "\n",
        "    for _ in range(simulacoes):\n",
        "        #inicializa o insto na posicao central\n",
        "        posicao = (3,3)\n",
        "\n",
        "        #numero de visitas em cada simulação\n",
        "        cont_visitas = 0\n",
        "\n",
        "        # o inseto anda até atingir uma das condições de parada\n",
        "        while True:\n",
        "\n",
        "            #simula um salto\n",
        "            posicao = simula_posicao(posicao, 1)\n",
        "\n",
        "            #condição de parada (ser capturado) ou (cair em um dos portais)\n",
        "            if posicao == (1,1) or posicao == (1,5) or posicao == (5,1):\n",
        "\n",
        "                #verifica se o inseto foi capturado\n",
        "                if posicao ==(1,1):\n",
        "                  #como o inseto foi capturado as visitas podem ser contabilizadas\n",
        "                  soma_visitas = cont_visitas +soma_visitas\n",
        "\n",
        "                  #como o inseto foi capturado a simulação é valida\n",
        "                  cont_simulacoes_validas = cont_simulacoes_validas + 1  \n",
        "                break\n",
        "            else:\n",
        "                #verifica se o inseto visitou a posicao central\n",
        "                if posicao == (3,3):\n",
        "\n",
        "                    #contabiliza mais uma visita a posicao central dentro da simulaçao atual\n",
        "                    cont_visitas = cont_visitas +1             \n",
        "        \n",
        "    #retorna a media de visitas a casa central\n",
        "    return soma_visitas/cont_simulacoes_validas                \n",
        "\n",
        "resultado = numero_medio_saltos_centro()\n",
        "print(f\"\\nPartindo da posicao inicial, o inseto passa pela posicao central {resultado} vezes, antes de ser capturado\")"
      ]
    }
  ],
  "metadata": {
    "colab": {
      "provenance": []
    },
    "kernelspec": {
      "display_name": "Python 3",
      "name": "python3"
    },
    "language_info": {
      "codemirror_mode": {
        "name": "ipython",
        "version": 3
      },
      "file_extension": ".py",
      "mimetype": "text/x-python",
      "name": "python",
      "nbconvert_exporter": "python",
      "pygments_lexer": "ipython3",
      "version": "3.10.0"
    }
  },
  "nbformat": 4,
  "nbformat_minor": 0
}
