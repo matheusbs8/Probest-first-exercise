{
  "cells": [
    {
      "cell_type": "markdown",
      "metadata": {
        "id": "tKAcyAOyW8W0"
      },
      "source": [
        "# Estatística & Probabilidade - 2023/02\n",
        "\n",
        "## Projeto 02 - Calculando probabilidades com simulação estocástica\n",
        "\n",
        "### Hugo Tremonte de Carvalho\n",
        "\n",
        "#### hugo@dme.ufrj.br\n",
        "\n",
        "#### Google Classroom: `oug6dox`"
      ]
    },
    {
      "cell_type": "markdown",
      "metadata": {
        "id": "LsmMcxGPW8W1"
      },
      "source": [
        "# ⚠️ INSTRUÇÕES ⚠️ LEIAM ATENTAMENTE! ⚠️"
      ]
    },
    {
      "cell_type": "markdown",
      "metadata": {
        "id": "aSV-VmQvW8W2"
      },
      "source": [
        "* A data limite de entrega do projeto é domingo, 03/12/2023, às 23h59. Avaliações entregues após esse prazo serão desconsideradas.\n",
        "* O projeto pode ser feito em dupla.\n",
        "* A entrega deve ser feita exclusivamente através do Google Classroom, e o projeto deve ser redigido na forma de um relatório, incluindo os códigos. Para isso, use a linguagem Python dentro de um notebook do Google Colaboratory e anexe-o à atividade da seguinte forma:\n",
        "    - Dentro da turma no Google Classroom, clique em \"Atividades\".\n",
        "    \n",
        "    - No tópico \"Projetos\", clique em \"Projeto 02\" e, em seguida, em \"Ver atividade\".\n",
        "    - No canto superior direito, clique em \"+ Adicionar ou criar\" e, em seguida, selecione \"Arquivo\" ou \"Google Drive\" se optar por fazer o upload do notebook ou selecionar um arquivo do seu Google Drive, respectivamente.\n",
        "    - O título do notebook deverá ser obrigatoriamente \"SEU NOME - Projeto 02\" ou \"NOMES DA DUPLA - Projeto 02\", caso tenha optado por fazer o projeto em dupla. Nesse último caso, apenas uma das pessoas da dupla deve fazer a entrega.\n",
        "    - Para entregar o projeto, abra a atividade que o contém (conforme procedimento explicado no ponto acima) e, no canto superior direito, clique em \"ENTREGAR\" (o texto estará em uma caixa cinza, mas ele é clicável).\n",
        "    - Na tela a seguir, clique em \"Entregar\" para confirmar a entrega do trabalho.\n",
        "    - Se você se arrependeu e quiser fazer outra entrega, basta abrir a atividade, no canto superior direito clique em \"Cancelar envio\" e confirme clicando novamente em \"Cancelar envio\" na janela que irá abrir. Você pode fazer isso quantas vezes quiser até o prazo determinado.\n",
        "    - As explicações que você precisar fazer devem ser feitas em células de texto em seu notebook. Somente comentários pequenos devem ser feitos no código.\n",
        "    - Caso seja necessário, equações podem ser introduzidas em LaTeX nas células de texto.\n",
        "    - Figuras também podem ser incluídas em células de texto, tanto através de upload quanto simplesmente arrastando-a para alguma célula de texto. Nesse caso, sempre informe a fonte de onde a figura foi retirada.\n",
        "* A troca de conhecimento na realização da avaliação é permitida e encorajada: ciência se faz com colaboração, e devemos seguir esse espírito aqui. No entanto, cada aluno (ou dupla) deverá ter sua própria resolução, e cópias ou outras ilegalidades serão severamente punidas com a anulação da avaliação para o(s) aluno(s) suspeito(s).\n",
        "* Todos os passos de sua resolução devem ser devidamente justificados.\n",
        "\n",
        "* Ao entregar esta avaliação, você afirma ter lido e estar de acordo com essas regras, comprometendo-se a cumpri-las."
      ]
    },
    {
      "cell_type": "markdown",
      "metadata": {
        "id": "6jbjorsno16i"
      },
      "source": [
        "## Questão 1"
      ]
    },
    {
      "cell_type": "markdown",
      "metadata": {
        "id": "nscY444bo5vb"
      },
      "source": [
        "Disserte sobre a distribuição de Zipf (ou lei de Zipf, como também é chamada). Seu texto deve falar sobre: motivação e surgimento da distribuição, algumas de suas diversas aplicações, trazer discussões/interpretações de seus sumários numéricos (média, variância, etc.) e tratar de outros aspectos probabilísticos da distribuição que você julgue importante. Finalmente, diga como que a distribuição de Zipf se aplica em compressão de arquivos. Faça um texto o mais detalhado possível, evitando frases \"misteriosas\"; coloque referências bibliográficas para afirmações que você não irá se aprofundar."
      ]
    },
    {
      "cell_type": "markdown",
      "metadata": {},
      "source": [
        "-- sua resolução aqui --"
      ]
    },
    {
      "cell_type": "markdown",
      "metadata": {
        "id": "LaL7ZvrFqrGd"
      },
      "source": [
        "## Questão 2"
      ]
    },
    {
      "cell_type": "markdown",
      "metadata": {
        "id": "QOr2y6H6rASi"
      },
      "source": [
        "O objetivo desta questão  é ilustrar que certas probabilidades podem ser calculadas malandramente de modo levemente indireto."
      ]
    },
    {
      "cell_type": "markdown",
      "metadata": {
        "id": "3JCfE3SoxEz0"
      },
      "source": [
        "a) Seja $Z$ uma variável aleatória com distribuição normal padrão, ou seja, normal com média zero e variância unitária. Argumente que $P(Z > 20)$ não é uma quantidade nula, mas que é impossível obtê-la \"ingenuamente\", ou seja, através de algum dos seguintes métodos: consultando uma tabela, utilizando as funções elementares de algum software ou pacote (por exemplo, import scipy.stats e em seguida $1 - \\text{scipy.stats.norm}(0, 1).\\text{cdf}(20)$ no Python), ou através de simulação estocástica (por exemplo, calculando a proporção de observações acima de 20 em uma grande quantidade de simulações dessa variável aleatória)."
      ]
    },
    {
      "cell_type": "markdown",
      "metadata": {},
      "source": [
        "RESPOSTA"
      ]
    },
    {
      "cell_type": "markdown",
      "metadata": {},
      "source": [
        "Primeiramente é necessário provar que a probabilidade $P(Z > 20)$ não é uma quantidade nula.\n",
        "\n",
        "A função de densidade de probabilidade da distribuição normal padrão se encontra abaixo:\n",
        "\n",
        "$$ f(x) = \\frac{1}{\\sqrt{2*\\pi}} * e^{\\frac{-x^2}{2}}$$"
      ]
    },
    {
      "cell_type": "markdown",
      "metadata": {},
      "source": [
        "Para calcular $P(Z > 20)$, podemos calcular a integral da função acima, no intervalo $]20, +\\infty[$:\n",
        "\n"
      ]
    },
    {
      "cell_type": "markdown",
      "metadata": {},
      "source": [
        "$$\\ \\int_{20}^{+\\infty} \\frac{1}{\\sqrt{2*\\pi}} * e^{\\frac{-x^2}{2}} \\;\\;dx$$\n",
        "\n",
        "Essa integral é impossível de ser calculada analiticamente, desta forma usaremos o programa em python."
      ]
    },
    {
      "cell_type": "code",
      "execution_count": 6,
      "metadata": {},
      "outputs": [
        {
          "name": "stdout",
          "output_type": "stream",
          "text": [
            "P(Z > 20) = 2.753624119264353e-89\n"
          ]
        }
      ],
      "source": [
        "from scipy import integrate\n",
        "import numpy \n",
        "\n",
        "# Função de densidade de probabilidade da distribuição normal padrão\n",
        "def pdf(x):\n",
        "    return 1/ numpy.sqrt(2* numpy.pi) *  numpy.exp(-x**2/2)\n",
        "\n",
        "# Calcular a probabilidade P(Z > 20)\n",
        "probabilidade, _ = integrate.quad(lambda x: pdf(x), 20,  numpy.inf)\n",
        "\n",
        "print(\"P(Z > 20) =\", probabilidade)\n"
      ]
    },
    {
      "cell_type": "markdown",
      "metadata": {},
      "source": [
        "Pelo resultado, podemos observar que $P(Z > 20)$ não é nulo, mas é extremamente pequeno.\n",
        "\n",
        "Vamos agora tentar calcular ingenuamente a mesma probabilidade utilizando consulta de tabela e simulação estocástica."
      ]
    },
    {
      "cell_type": "markdown",
      "metadata": {},
      "source": [
        "O código python abaixo, irá realizar a consulta de tabela, usando a função norm da biblioteca scipy.stats.\n",
        "\n",
        "norm(0,1).cdf(20) fornece o resultado de $P(Z \\leq 20)$.\n",
        "\n",
        "Para obter $P(Z > 20)$, iremos calcular 1 - $P(Z \\leq 20)$\n"
      ]
    },
    {
      "cell_type": "code",
      "execution_count": 7,
      "metadata": {},
      "outputs": [
        {
          "name": "stdout",
          "output_type": "stream",
          "text": [
            "P(Z > 20) = 0.0\n"
          ]
        }
      ],
      "source": [
        "from scipy.stats import norm\n",
        "\n",
        "# Calcule a probabilidade P(Z > 20)\n",
        "probabilidade = 1 - norm(0,1).cdf(20)\n",
        "\n",
        "print(\"P(Z > 20) =\", probabilidade)\n"
      ]
    },
    {
      "cell_type": "markdown",
      "metadata": {},
      "source": [
        "Agora tentaremos calcular $P(Z > 20)$, utilizando simulação estocástica, ou seja, geração de dados aleatórios com base na distribuição normal de probabilidade e a observação do comportamento. \n",
        "\n",
        "Resumindo, iremos gerar um número grande de amostras aleatórias da diatribuição normal, e iremos calcular a probabilidade de algum número dessas amostras é maior do que 20."
      ]
    },
    {
      "cell_type": "code",
      "execution_count": 8,
      "metadata": {},
      "outputs": [
        {
          "name": "stdout",
          "output_type": "stream",
          "text": [
            "P(Z > 20) estimado por simulação: 0.0\n"
          ]
        }
      ],
      "source": [
        "import numpy as np\n",
        "\n",
        "# Número de simulações\n",
        "total_simulacoes = 10**8\n",
        "\n",
        "# Gerar números aleatórios a partir da distribuição normal padrão\n",
        "amostras = np.random.normal(0, 1, total_simulacoes)\n",
        "\n",
        "# Calcular a proporção de observações maiores que 20\n",
        "proporcao = np.sum(amostras > 20) / total_simulacoes\n",
        "\n",
        "print(\"P(Z > 20) estimado por simulação:\", proporcao)\n"
      ]
    },
    {
      "cell_type": "markdown",
      "metadata": {},
      "source": [
        "Como pode ser observado, obter  $P(Z > 20)$ ingenuinamente é impossível"
      ]
    },
    {
      "cell_type": "markdown",
      "metadata": {},
      "source": [
        "b) Escreva a integral que calcula a quantidade $P(Z > 20)$, faça uma mudança de variáveis esperta e conclua que tal probabilidade pode ser expressada como $E[g(Y)]$, onde $Y$ é uma variável aleatória com distribuição uniforme no intervalo $\\left[0, \\frac{1}{20}\\right]$ e a função $g$ é dada por\n",
        "\n",
        "$$ g(y) = \\frac{1}{20y^2\\sqrt{2\\pi}} * e^{\\frac{-1}{2y^2}}$$\n"
      ]
    },
    {
      "cell_type": "markdown",
      "metadata": {},
      "source": [
        "RESPOSTA\n"
      ]
    },
    {
      "cell_type": "markdown",
      "metadata": {},
      "source": [
        "Primeiramente, é preciso descobrir qual é a mudança de variável que será realizada. Um dos indicios é a mudança de intervalo. O intervalo de integração inicial é $]20, + \\infty[$, mas com a mudança de variável é alterado para  $\\left[0, \\frac{1}{20}\\right]$.\n",
        "\n",
        "Analisando essa mudança, podemos inferir que a mudança de variável é $Y = \\frac{1}{x}$, aplicando a mudança de variavel no intervalo inicial obtemos o intervalo desejado.\n",
        "\n",
        "Agora devemos realIzar esta mudança de variável na formula da probabilidade:\n",
        "\n",
        "\n",
        "$$\\ P(Z > 20) = \\int_{20}^{+\\infty} \\frac{1}{\\sqrt{2*\\pi}} * e^{\\frac{-x^2}{2}} \\;\\;dx$$\n",
        "\n",
        "\n",
        "efetuando a mudança de variável $X = \\frac{1}{Y}$, temos:\n",
        "\n",
        "\n",
        "$$\\ P(Z > 20) =  \\int_{\\frac{1}{20}}^{0} \\frac{1}{\\sqrt{2*\\pi}} * e^{\\frac{-1}{2*y^2}} * (-\\frac{1}{y^2}) \\;\\;dy$$\n",
        "\n",
        "realizando algumas simplificações, obtemos\n",
        "\n",
        "$$\\  P(Z > 20) = - \\int_{0}^{\\frac{1}{20}} - \\frac{1}{\\sqrt{2*\\pi}*y^2} * e^{\\frac{-1}{2*y^2}}  \\;\\;dy$$\n",
        "\n",
        "No fim obtemos\n",
        "\n",
        "$$\\ P(Z > 20) =  \\int_{0}^{\\frac{1}{20}}  \\frac{1}{\\sqrt{2*\\pi}*y^2} * e^{\\frac{-1}{2*y^2}}  \\;\\;dy$$\n",
        "\n",
        "Podemos escrever essa probabilidade em função de $g(y)$\n",
        "\n",
        "$$\\ P(Z > 20) =  \\int_{0}^{\\frac{1}{20}} 20* g(y)  \\;\\;dy $$\n",
        "\n",
        "\n",
        "Segundo a Lei do estatistico preguiçoso, podemos afirmar que\n",
        "\n",
        "\n",
        "$$E[g(Y)] = \\int_{- \\infty}^{+\\infty} g(y) * f_Y(y) \\;\\;dy$$\n",
        "\n",
        "Como Y, é uma variável aleatória uniforme no intervalo $\\left[0, \\frac{1}{20}\\right]$, podemos trocar o intervalos de integração e colocar o valor de $f_Y(y)$ que é igual a $\\frac{1}{\\frac{1}{20} - 0}$\n",
        "\n",
        "$$E[g(Y)] = \\int_{0}^{\\frac{1}{20}} g(y) * \\frac{1}{\\frac{1}{20} - 0} \\;\\;dy$$\n",
        "\n",
        "simplificando, obtemos\n",
        "\n",
        "$$E[g(Y)] = \\int_{0}^{\\frac{1}{20}} 20*g(y) \\;\\;dy$$\n",
        "\n",
        "Sendo assim podemos conculir que \n",
        "\n",
        "$$ P(Z > 20) = E[g(Y)] $$\n",
        "\n",
        "sendo $ g(y) = \\frac{1}{20y^2\\sqrt{2\\pi}} * e^{\\frac{-1}{2y^2}}$\n",
        "\n"
      ]
    },
    {
      "cell_type": "markdown",
      "metadata": {},
      "source": [
        "c) Usando o resultado do item b), encontre uma aproximação para $P(Z > 20)$ através de simulações da variável aleatória $Y$.\n"
      ]
    },
    {
      "cell_type": "markdown",
      "metadata": {},
      "source": [
        "RESPOSTA"
      ]
    },
    {
      "cell_type": "markdown",
      "metadata": {},
      "source": [
        "Como foi mostrado no item b, $E[g(Y)]$ pode ser uma boa aproximação do valor de $P(Z > 20)$, vamos encontrar este valor utilizando o programa de python abaixo"
      ]
    },
    {
      "cell_type": "code",
      "execution_count": 10,
      "metadata": {},
      "outputs": [
        {
          "name": "stdout",
          "output_type": "stream",
          "text": [
            "Valor esperado de g(Y) para a distribuição uniforme em [0, 1/20]: 2.7230993699861715e-89\n",
            "Dessa forma, P(Z > 20): 2.7230993699861715e-89\n"
          ]
        }
      ],
      "source": [
        "import numpy as np\n",
        "\n",
        "# Definir os parâmetros da distribuição uniforme para Y\n",
        "a = 0\n",
        "b = 1/20\n",
        "\n",
        "# Definir a função g(y)\n",
        "def g(y):\n",
        "    return (1 / (20 * y**2 * np.sqrt(2 * np.pi))) * np.exp(-1 / (2 * y**2))\n",
        "\n",
        "# Número de amostras\n",
        "amostras = 10**6\n",
        "\n",
        "# Gerar amostras de Y a partir da distribuição uniforme\n",
        "amostras_Y = np.random.uniform(a, b, amostras)\n",
        "\n",
        "# Calcular g(Y) para cada amostra\n",
        "amostras_g_Y = [g(y) for y in amostras_Y]\n",
        "\n",
        "# Calcular a média esperada de g(Y)\n",
        "esperanca_g_Y = np.mean(amostras_g_Y)\n",
        "\n",
        "print(f'Valor esperado de g(Y) para a distribuição uniforme em [0, 1/20]: {esperanca_g_Y}')\n",
        "print(f'Dessa forma, P(Z > 20): {esperanca_g_Y}')\n"
      ]
    },
    {
      "cell_type": "markdown",
      "metadata": {},
      "source": [
        "d) Ao se repetir o processo do item c) diversas vezes, você obterá várias estimativas para $P(Z > 20)$. Estime a incerteza em tais estimativas, justificando o seu procedimento. Discuta o que acontece com tal incerteza à medida que a quantidade de simulações de $Y$ aumenta.\n"
      ]
    },
    {
      "cell_type": "markdown",
      "metadata": {},
      "source": [
        "-- sua resolução aqui --"
      ]
    },
    {
      "cell_type": "markdown",
      "metadata": {
        "id": "O5OXB7gtxKCL"
      },
      "source": [
        "## Questão 3"
      ]
    },
    {
      "cell_type": "markdown",
      "metadata": {
        "id": "IvZ5zfcTxVYx"
      },
      "source": [
        "Um inseto se move aleatoriamente em um tabuleiro de tamanho 5 × 5 de acordo com a seguinte regra:\n",
        "A cada movimento, ele tem igual probabilidade de saltar para alguma das casas adjacentes àquela ocupada, onde não considera-se casas na diagonal como adjacentes. No entanto, na casa do canto superior esquerdo há uma armadilha que imobiliza o inseto. Na casa do canto inferior direito há um portal que transporta o inseto para qualquer outra casa do tabuleiro, com igual probabilidade. Finalmente, nas casas dos cantos superior direito e inferior esquerdo, há portais que transportam o inseto entre essas casas somente. Com base nessa descrição, faça o que se pede abaixo."
      ]
    },
    {
      "cell_type": "markdown",
      "metadata": {
        "id": "psZKODw_zLMj"
      },
      "source": [
        "a) Justifique que uma cadeia de Markov é um modelo adequado para descrever tal situação e construa a matriz de probabilidades de transição desse processo.\n",
        "\n"
      ]
    },
    {
      "cell_type": "markdown",
      "metadata": {},
      "source": [
        "RESPOSTA"
      ]
    },
    {
      "cell_type": "markdown",
      "metadata": {
        "id": "VQSdGXm5zWH7"
      },
      "source": [
        "A modelagem como uma cadeia de Markov é uma boa escolha para descrever o movimento do inseto no tabuleiro, pois atende à propriedade fundamental: a dependência apenas do estado atual para a escolha do próximo estado. Nesse contexto, a posição atual do inseto já possui toda a informação relevante para determinar suas probabilidades de movimento, tornando a cadeia de Markov uma escolha adequada para representar esse processo."
      ]
    },
    {
      "cell_type": "markdown",
      "metadata": {},
      "source": [
        "Agora vamos montar a a matriz de probabilidades de transição, que vai descrever as probabilidades de transição entre os estados do sistema. Como são 25 casas no tabuleiro, serão 25 estados. Agora vamos entender quais são as probabilidades para cada tipo de casa do tabuleiro:\n",
        "\n",
        "* A cada movimento, ele tem igual probabilidade de saltar para alguma das casas adjacentes àquela ocupada.\n",
        "\n",
        "* Dessa forma, para as casas das pontas, há a probabilidade de $\\frac{1}{3}$ para cada uma das 3 casas adjacentes.\n",
        "\n",
        "* Para casas que se encontram no centro do tabuleiro, há a probabilidade de $\\frac{1}{4}$ para cada uma das 3 casas adjacentes.\n",
        "\n",
        "* Na casa do canto inferior direito há um portal que transporta o inseto para qualquer outra casa do tabuleiro, com igual probabilidade, sendo assim há a probabilidade de $\\frac{1}{24}$ para cada uma das outras 24.\n",
        "\n",
        "* Na casa do canto superior esquerdo há uma armadilha que imobiliza o inseto, assim há a probabilidade de $\\frac{1}{1}$ de permanecer na mesma casa.\n",
        "\n",
        "* Por fim nas casas dos cantos superior direito e inferior esquerdo há portais que transportam o inseto entre essas casas somente, assim para cada casa há a probabilidade de $\\frac{1}{1}$ de ir para a outra casa com o portal.\n",
        "\n",
        "Com todas essas informações será possivel construir a matriz de transição do jogo"
      ]
    },
    {
      "cell_type": "markdown",
      "metadata": {},
      "source": [
        "| m | 1,1 | 1,2 | 1,3 | 1,4 | 1,5 | 2,1 | 2,2 | 2,3 | 2,4 | 2,5 | 3,1 | 3,2 | 3,3 | 3,4 | 3,5 | 4,1 | 4,2 | 4,3 | 4,4 | 4,5 | 5,1 | 5,2 | 5,3 | 5,4 | 5,5 |\n",
        "|-----------|---|---|---|---|---|---|---|---|---|---|---|---|---|---|---|---|---|---|---|---|---|---|---|---|---|\n",
        "|(1,1)| 1 | 0 | 0 | 0 | 0 | 0 |0 | 0 |0| 0 | 0 | 0 | 0 | 0 |0 | 0 | 0 |0 | 0 | 0 | 0 |0 | 0 | 0 | 0 |\n",
        "| (1,2)      | $\\frac{1}{3}$  | 0 | $\\frac{1}{3}$  | 0 | 0 | 0 |$\\frac{1}{3}$  | 0 |0| 0 | 0 | 0 | 0 | 0 |0 | 0 | 0 |0 | 0 | 0 | 0 |0 | 0 | 0 | 0 |\n",
        "| (1,3)      | 0 | $\\frac{1}{3}$  | 0 | $\\frac{1}{3}$  | 0 | 0 | 0 |$\\frac{1}{3}$  | 0 |0| 0 | 0 | 0 | 0 | 0 |0 | 0 | 0 |0 | 0 | 0 | 0 |0 | 0 | 0 |\n",
        "| (1,4)      | 0 |  0 | $\\frac{1}{3}$  | 0 | $\\frac{1}{3}$  | 0 | 0 | 0 |$\\frac{1}{3}$  | 0 |0| 0 | 0 | 0 | 0 | 0 |0 | 0 | 0 |0 | 0 | 0 | 0 |0 | 0 |\n",
        "| (1,5)      |  0 |  0 | 0  | 0 |  0 | 0 | 0 | 0 | 0  | 0 |0| 0 | 0 | 0 | 0 | 0 |0 | 0 | 0 |0 | 1 | 0 | 0 |0 | 0 |\n",
        "| (2,1)      | $\\frac{1}{3}$  | 0 | 0 | 0 | 0 | 0 |$\\frac{1}{3}$  | 0 |0| 0 | $\\frac{1}{3}$ | 0 | 0 | 0 |0 | 0 | 0 |0 | 0 | 0 | 0 |0 | 0 | 0 | 0 |\n",
        "| (2,2) | 0  | $\\frac{1}{4}$ | 0 | 0 | 0 | $\\frac{1}{4}$ | 0  | $\\frac{1}{4}$ |0| 0 |0 | $\\frac{1}{4}$ | 0 | 0 |0 | 0 | 0 |0 | 0 | 0 | 0 |0 | 0 | 0 | 0 |\n",
        "| (2,3) | 0 |0 | $\\frac{1}{4}$ | 0 | 0 | 0 | $\\frac{1}{4}$ | 0  | $\\frac{1}{4}$ |0| 0 |0 | $\\frac{1}{4}$ | 0 | 0 |0 | 0 | 0 |0 | 0 | 0 | 0 |0 | 0 | 0 | \n",
        "| (2,4) | 0 | 0 |0 | $\\frac{1}{4}$ | 0 | 0 | 0 | $\\frac{1}{4}$ | 0  | $\\frac{1}{4}$ |0| 0 |0 | $\\frac{1}{4}$ | 0 | 0 |0 | 0 | 0 |0 | 0 | 0 | 0 |0 | 0 |\n",
        "| (2,5)      | 0  | 0 | 0 | 0 | $\\frac{1}{3}$  | 0 | 0  | 0 | $\\frac{1}{3}$ | 0 | 0 | 0 | 0 | 0 |$\\frac{1}{3}$  | 0 | 0 |0 | 0 | 0 | 0 |0 | 0 | 0 | 0 |\n",
        "| (3,1)     | 0 | 0 |0 | 0 | 0   | $\\frac{1}{3}$  | 0 | 0 | 0 | 0 | 0 |$\\frac{1}{3}$  | 0 |0| 0 | $\\frac{1}{3}$ | 0 | 0 | 0 |0 | 0 | 0 |0 | 0 | 0 |\n",
        "| (3,2) | 0 | 0 |0 | 0 | 0 | 0  | $\\frac{1}{4}$ | 0 | 0 | 0 | $\\frac{1}{4}$ | 0  | $\\frac{1}{4}$ |0| 0 |0 | $\\frac{1}{4}$ | 0 | 0 |0 | 0 | 0 |0 | 0 | 0 |\n",
        "| (3,3) | 0 | 0 |0 | 0 | 0| 0 |0 | $\\frac{1}{4}$ | 0 | 0 | 0 | $\\frac{1}{4}$ | 0  | $\\frac{1}{4}$ |0| 0 |0 | $\\frac{1}{4}$ | 0 | 0 |0 | 0 | 0 |0 | 0 |\n",
        "| (3,4) | 0 | 0 |0 | 0 | 0| 0 | 0 |0 | $\\frac{1}{4}$ | 0 | 0 | 0 | $\\frac{1}{4}$ | 0  | $\\frac{1}{4}$ |0| 0 |0 | $\\frac{1}{4}$ | 0 | 0 |0 | 0| 0|0 |     \n",
        "| (3,5)      | 0 | 0 |0 | 0 | 0 | 0  | 0 | 0 | 0 | $\\frac{1}{3}$  | 0 | 0  | 0 | $\\frac{1}{3}$ | 0 | 0 | 0 | 0 | 0 |$\\frac{1}{3}$  | 0 | 0 |0 | 0 | 0 |\n",
        "| (4,1)     | 0 | 0 |0 | 0 | 0   |  0 | 0 |0 | 0 | 0   | $\\frac{1}{3}$  | 0 | 0 | 0 | 0 | 0 |$\\frac{1}{3}$  | 0 |0| 0 | $\\frac{1}{3}$ | 0 | 0 | 0 |0 |\n",
        "| (4,2) | 0 | 0 |0 | 0 | 0| 0 | 0 |0 | 0 | 0 | 0  | $\\frac{1}{4}$ | 0 | 0 | 0 | $\\frac{1}{4}$ | 0  | $\\frac{1}{4}$ |0| 0 |0 | $\\frac{1}{4}$ | 0 | 0 |0 |\n",
        "| (4,3) |0|0|0|0|0| 0 | 0 |0 | 0 | 0| 0 |0 | $\\frac{1}{4}$ | 0 | 0 | 0 | $\\frac{1}{4}$ | 0  | $\\frac{1}{4}$ |0| 0 |0 | $\\frac{1}{4}$ | 0 | 0 |\n",
        "| (4,4) |0|0|0|0|0| 0 | 0 |0 | 0 | 0| 0 | 0 |0 | $\\frac{1}{4}$ | 0 | 0 | 0 | $\\frac{1}{4}$ | 0  | $\\frac{1}{4}$ |0| 0 |0 | $\\frac{1}{4}$ | 0 |\n",
        "| (4,5)      | 0 | 0 |0 | 0 | 0 | 0 | 0 |0 | 0 | 0 | 0  | 0 | 0 | 0 | $\\frac{1}{3}$  | 0 | 0  | 0 | $\\frac{1}{3}$ | 0 | 0 | 0 | 0 | 0 |$\\frac{1}{3}$  |\n",
        "| (5,1)      |  0 |  0 | 0  | 0 |  1 | 0 | 0 | 0 | 0  | 0 |0| 0 | 0 | 0 | 0 | 0 |0 | 0 | 0 |0 | 0 | 0 | 0 |0 | 0 |\n",
        "| (5,2)      | 0 | 0 |0 | 0 | 0 | 0 | 0 |0 | 0 | 0 | 0  | 0 | 0 | 0 | 0  | 0 | $\\frac{1}{3}$  | 0 | 0 | 0 | $\\frac{1}{3}$ | 0 | $\\frac{1}{3}$ | 0 |0  |\n",
        "| (5,3)      |0| 0 | 0 |0 | 0 | 0 | 0 | 0 |0 | 0 | 0 | 0  | 0 | 0 | 0 | 0  | 0 | $\\frac{1}{3}$  | 0 | 0 | 0 | $\\frac{1}{3}$ | 0 | $\\frac{1}{3}$ | 0 |\n",
        "| (5,4)      |0|0| 0 | 0 |0 | 0 | 0 | 0 | 0 |0 | 0 | 0 | 0  | 0 | 0 | 0 | 0  | 0 | $\\frac{1}{3}$  | 0 | 0 | 0 | $\\frac{1}{3}$ | 0 | $\\frac{1}{3}$ | \n",
        "| (5,5)      | $\\frac{1}{24}$ | $\\frac{1}{24}$ | $\\frac{1}{24}$ | $\\frac{1}{24}$ | $\\frac{1}{24}$ | $\\frac{1}{24}$ | $\\frac{1}{24}$ | $\\frac{1}{24}$ | $\\frac{1}{24}$ | $\\frac{1}{24}$ | $\\frac{1}{24}$ | $\\frac{1}{24}$ | $\\frac{1}{24}$ | $\\frac{1}{24}$ | $\\frac{1}{24}$ | $\\frac{1}{24}$ | $\\frac{1}{24}$ | $\\frac{1}{24}$ | $\\frac{1}{24}$ | $\\frac{1}{24}$ | $\\frac{1}{24}$ | $\\frac{1}{24}$ | $\\frac{1}{24}$ | $\\frac{1}{24}$ | 0 |\n"
      ]
    },
    {
      "cell_type": "code",
      "execution_count": 5,
      "metadata": {},
      "outputs": [
        {
          "name": "stdout",
          "output_type": "stream",
          "text": [
            "[[1.    0.    0.    0.    0.    0.    0.    0.    0.    0.    0.    0.\n",
            "  0.    0.    0.    0.    0.    0.    0.    0.    0.    0.    0.    0.\n",
            "  0.   ]\n",
            " [0.    0.    0.    0.    0.    0.    0.    0.    0.    0.    0.    0.\n",
            "  0.    0.    0.    0.    0.    0.    0.    0.    0.    0.    0.    0.\n",
            "  0.   ]\n",
            " [0.    0.    0.    0.    0.    0.    0.    0.    0.    0.    0.    0.\n",
            "  0.    0.    0.    0.    0.    0.    0.    0.    0.    0.    0.    0.\n",
            "  0.   ]\n",
            " [0.    0.    0.    0.    0.    0.    0.    0.    0.    0.    0.    0.\n",
            "  0.    0.    0.    0.    0.    0.    0.    0.    0.    0.    0.    0.\n",
            "  0.   ]\n",
            " [0.    0.    0.    0.    0.    0.    0.    0.    0.    0.    0.    0.\n",
            "  0.    0.    0.    0.    0.    0.    0.    0.    0.    0.    0.    0.\n",
            "  0.   ]\n",
            " [0.    0.    0.    0.    0.    0.    0.    0.    0.    0.    0.    0.\n",
            "  0.    0.    0.    0.    0.    0.    0.    0.    0.    0.    0.    0.\n",
            "  0.   ]\n",
            " [0.    0.    0.    0.    0.    0.    0.    0.    0.    0.    0.    0.\n",
            "  0.    0.    0.    0.    0.    0.    0.    0.    0.    0.    0.    0.\n",
            "  0.   ]\n",
            " [0.    0.    0.    0.    0.    0.    0.    0.    0.    0.    0.    0.\n",
            "  0.    0.    0.    0.    0.    0.    0.    0.    0.    0.    0.    0.\n",
            "  0.   ]\n",
            " [0.    0.    0.    0.    0.    0.    0.    0.    0.    0.    0.    0.\n",
            "  0.    0.    0.    0.    0.    0.    0.    0.    0.    0.    0.    0.\n",
            "  0.   ]\n",
            " [0.    0.    0.    0.    0.    0.    0.    0.    0.    0.    0.    0.\n",
            "  0.    0.    0.    0.    0.    0.    0.    0.    0.    0.    0.    0.\n",
            "  0.   ]\n",
            " [0.    0.    0.    0.    0.    0.    0.    0.    0.    0.    0.    0.\n",
            "  0.    0.    0.    0.    0.    0.    0.    0.    0.    0.    0.    0.\n",
            "  0.   ]\n",
            " [0.    0.    0.    0.    0.    0.    0.    0.    0.    0.    0.    0.\n",
            "  0.    0.    0.    0.    0.    0.    0.    0.    0.    0.    0.    0.\n",
            "  0.   ]\n",
            " [0.    0.    0.    0.    0.    0.    0.    0.    0.    0.    0.    0.\n",
            "  0.    0.    0.    0.    0.    0.    0.    0.    0.    0.    0.    0.\n",
            "  0.   ]\n",
            " [0.    0.    0.    0.    0.    0.    0.    0.    0.    0.    0.    0.\n",
            "  0.    0.    0.    0.    0.    0.    0.    0.    0.    0.    0.    0.\n",
            "  0.   ]\n",
            " [0.    0.    0.    0.    0.    0.    0.    0.    0.    0.    0.    0.\n",
            "  0.    0.    0.    0.    0.    0.    0.    0.    0.    0.    0.    0.\n",
            "  0.   ]\n",
            " [0.    0.    0.    0.    0.    0.    0.    0.    0.    0.    0.    0.\n",
            "  0.    0.    0.    0.    0.    0.    0.    0.    0.    0.    0.    0.\n",
            "  0.   ]\n",
            " [0.    0.    0.    0.    0.    0.    0.    0.    0.    0.    0.    0.\n",
            "  0.    0.    0.    0.    0.    0.    0.    0.    0.    0.    0.    0.\n",
            "  0.   ]\n",
            " [0.    0.    0.    0.    0.    0.    0.    0.    0.    0.    0.    0.\n",
            "  0.    0.    0.    0.    0.    0.    0.    0.    0.    0.    0.    0.\n",
            "  0.   ]\n",
            " [0.    0.    0.    0.    0.    0.    0.    0.    0.    0.    0.    0.\n",
            "  0.    0.    0.    0.    0.    0.    0.    0.    0.    0.    0.    0.\n",
            "  0.   ]\n",
            " [0.    0.    0.    0.    0.    0.    0.    0.    0.    0.    0.    0.\n",
            "  0.    0.    0.    0.    0.    0.    0.    0.    0.    0.    0.    0.\n",
            "  0.   ]\n",
            " [0.    0.    0.    0.    0.    0.    0.    0.    0.    0.    0.    0.\n",
            "  0.    0.    0.    0.    0.    0.    0.    0.    0.    0.    0.    0.\n",
            "  0.   ]\n",
            " [0.    0.    0.    0.    0.    0.    0.    0.    0.    0.    0.    0.\n",
            "  0.    0.    0.    0.    0.    0.    0.    0.    0.    0.    0.    0.\n",
            "  0.   ]\n",
            " [0.    0.    0.    0.    0.    0.    0.    0.    0.    0.    0.    0.\n",
            "  0.    0.    0.    0.    0.    0.    0.    0.    0.    0.    0.    0.\n",
            "  0.   ]\n",
            " [0.    0.    0.    0.    0.    0.    0.    0.    0.    0.    0.    0.\n",
            "  0.    0.    0.    0.    0.    0.    0.    0.    0.    0.    0.    0.\n",
            "  0.   ]\n",
            " [0.042 0.042 0.042 0.042 0.042 0.042 0.042 0.042 0.042 0.042 0.042 0.042\n",
            "  0.042 0.042 0.042 0.042 0.042 0.042 0.042 0.042 0.042 0.042 0.042 0.042\n",
            "  0.   ]]\n"
          ]
        }
      ],
      "source": [
        "import numpy as np\n",
        "\n",
        "# Function to create the matrix\n",
        "def create_matrix():\n",
        "    matrix_size = 25\n",
        "    matrix = np.zeros((matrix_size, matrix_size ))\n",
        "\n",
        "    for i in range(matrix_size):\n",
        "        for j in range(matrix_size):\n",
        "            \n",
        "            if i == 0:\n",
        "                matrix[0, 0] = 1\n",
        "\n",
        "            elif i == 24 and j!=24:    \n",
        "                matrix[i,j] = 1/24\n",
        "                     \n",
        "\n",
        "    \n",
        "\n",
        "    return matrix\n",
        "\n",
        "# Print the matrix\n",
        "matrix = create_matrix()\n",
        "np.set_printoptions(precision=3, suppress=True)\n",
        "print(matrix)\n"
      ]
    },
    {
      "cell_type": "markdown",
      "metadata": {
        "id": "2Vfan0FPzWfw"
      },
      "source": [
        "b) Construa um algoritmo para simular a posição do inseto, no qual é possível selecionar a casa do tabuleiro onde o inseto se localiza inicialmente."
      ]
    },
    {
      "cell_type": "markdown",
      "metadata": {
        "id": "91y2XZ2dzeqp"
      },
      "source": [
        "-- sua resolução aqui --"
      ]
    },
    {
      "cell_type": "markdown",
      "metadata": {
        "id": "ydxZsnFe0by_"
      },
      "source": [
        "c) Utilizando o algoritmo do item b, encontre uma aproximação para a probabilidade do inseto ser capturado pela armadilha do tabuleiro. Note que tal quantidade será função da casa inicialmente ocupada pelo inseto. Justifique intuitivamente o resultado obtido."
      ]
    },
    {
      "cell_type": "markdown",
      "metadata": {
        "id": "iUJS3YwD4wrA"
      },
      "source": [
        "-- sua resolução aqui --"
      ]
    },
    {
      "cell_type": "markdown",
      "metadata": {},
      "source": [
        "d) Também usando o algoritmo do item b, encontre uma aproximação para o número médio de saltos que o inseto dá antes de ser capturado pela armadilha. Analogamente ao item c, isso também será uma função da casa inicialmente ocupada no tabuleiro. Qual casa inicial maximiza o número médio de saltos do inseto antes de ser capturado?"
      ]
    },
    {
      "cell_type": "markdown",
      "metadata": {},
      "source": [
        "-- sua resolução aqui --"
      ]
    },
    {
      "cell_type": "markdown",
      "metadata": {},
      "source": [
        "e) Assumindo que a posição inicial do inseto é a casa central, quantas outras visitas ele faz, em média, à casa central antes de ser capturado pela armadilha?"
      ]
    },
    {
      "cell_type": "markdown",
      "metadata": {},
      "source": [
        "-- sua resolução aqui --"
      ]
    }
  ],
  "metadata": {
    "colab": {
      "provenance": []
    },
    "kernelspec": {
      "display_name": "Python 3",
      "name": "python3"
    },
    "language_info": {
      "codemirror_mode": {
        "name": "ipython",
        "version": 3
      },
      "file_extension": ".py",
      "mimetype": "text/x-python",
      "name": "python",
      "nbconvert_exporter": "python",
      "pygments_lexer": "ipython3",
      "version": "3.10.0"
    }
  },
  "nbformat": 4,
  "nbformat_minor": 0
}
